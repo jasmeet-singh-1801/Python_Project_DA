{
 "cells": [
  {
   "cell_type": "markdown",
   "id": "382a1241",
   "metadata": {},
   "source": [
    "Based on the exploration we did, the dataset located at Data_Anaylsis\\Python\\Datasets\\Gaana\\songs.csv contains information about songs from Gaana. Here's a description of the columns:\n",
    "\n",
    "name: The name of the song.\n",
    "singer: The name(s) of the singer(s) of the song. This column can contain multiple singers separated by a pipe |.\n",
    "singer_id: A unique identifier for the singer(s). Similar to the singer column, it can contain multiple singer IDs separated by a pipe |.\n",
    "duration: The duration of the song in a time format (e.g., 'MM:SS' or 'HH:MM:SS').\n",
    "link: The unique link to the song on Gaana. This column was used to identify and remove duplicate songs.\n",
    "language: The language of the song.\n",
    "The dataset has been cleaned by removing duplicates based on the 'link' and a combination of 'name', 'singer', 'singer_id', and 'duration'. A new column duration_in_sec was also added which converts the duration to seconds."
   ]
  },
  {
   "cell_type": "markdown",
   "id": "a31f8cf7",
   "metadata": {
    "vscode": {
     "languageId": "html"
    }
   },
   "source": [
    "# 1. Overall Data Exploration\n"
   ]
  },
  {
   "cell_type": "markdown",
   "id": "6b310205",
   "metadata": {},
   "source": [
    ">> ## 1.1) Loading Library"
   ]
  },
  {
   "cell_type": "code",
   "execution_count": 2,
   "id": "02ae5e7d",
   "metadata": {},
   "outputs": [],
   "source": [
    "import pandas as pd\n",
    "import numpy as np"
   ]
  },
  {
   "cell_type": "markdown",
   "id": "51371c02",
   "metadata": {},
   "source": [
    ">> ## 1.2) Loading the database "
   ]
  },
  {
   "cell_type": "code",
   "execution_count": 3,
   "id": "2b6eb824",
   "metadata": {},
   "outputs": [],
   "source": [
    "df = pd.read_csv('C:\\GeekforGeeks\\Data_Anaylsis\\Python\\Datasets\\Gaana\\songs.csv')"
   ]
  },
  {
   "cell_type": "code",
   "execution_count": 4,
   "id": "63b73514",
   "metadata": {},
   "outputs": [
    {
     "data": {
      "text/html": [
       "<div>\n",
       "<style scoped>\n",
       "    .dataframe tbody tr th:only-of-type {\n",
       "        vertical-align: middle;\n",
       "    }\n",
       "\n",
       "    .dataframe tbody tr th {\n",
       "        vertical-align: top;\n",
       "    }\n",
       "\n",
       "    .dataframe thead th {\n",
       "        text-align: right;\n",
       "    }\n",
       "</style>\n",
       "<table border=\"1\" class=\"dataframe\">\n",
       "  <thead>\n",
       "    <tr style=\"text-align: right;\">\n",
       "      <th></th>\n",
       "      <th>name</th>\n",
       "      <th>singer</th>\n",
       "      <th>singer_id</th>\n",
       "      <th>duration</th>\n",
       "      <th>link</th>\n",
       "      <th>language</th>\n",
       "    </tr>\n",
       "  </thead>\n",
       "  <tbody>\n",
       "    <tr>\n",
       "      <th>0</th>\n",
       "      <td>Dil - E - Nadan Tujhe</td>\n",
       "      <td>Chitra Singh|Jagjit Singh</td>\n",
       "      <td>/artist/chitra-singh|/artist/jagjeet-singh-1</td>\n",
       "      <td>05:00</td>\n",
       "      <td>/dil-e-nadan-tujhe-3</td>\n",
       "      <td>Urdu</td>\n",
       "    </tr>\n",
       "    <tr>\n",
       "      <th>1</th>\n",
       "      <td>Agar Hum Kahen Aur Woh Muskara De</td>\n",
       "      <td>Chitra Singh|Jagjit Singh</td>\n",
       "      <td>/artist/chitra-singh|/artist/jagjeet-singh-1</td>\n",
       "      <td>06:26</td>\n",
       "      <td>/agar-hum-kahen-aur-woh-muskura-den</td>\n",
       "      <td>Urdu</td>\n",
       "    </tr>\n",
       "    <tr>\n",
       "      <th>2</th>\n",
       "      <td>Unke Dekhe Se</td>\n",
       "      <td>Jagjit Singh</td>\n",
       "      <td>/artist/jagjeet-singh-1</td>\n",
       "      <td>03:41</td>\n",
       "      <td>/unke-dekhe-se</td>\n",
       "      <td>Urdu</td>\n",
       "    </tr>\n",
       "    <tr>\n",
       "      <th>3</th>\n",
       "      <td>Yeh Na Thi Hamari Qismat - Chitra Singh</td>\n",
       "      <td>Chitra Singh</td>\n",
       "      <td>/artist/chitra-singh</td>\n",
       "      <td>04:26</td>\n",
       "      <td>/yeh-na-thi-hamari-qismat-2</td>\n",
       "      <td>Urdu</td>\n",
       "    </tr>\n",
       "    <tr>\n",
       "      <th>4</th>\n",
       "      <td>Hazaron Khwahishen Aisi</td>\n",
       "      <td>Jagjit Singh</td>\n",
       "      <td>/artist/jagjeet-singh-1</td>\n",
       "      <td>05:39</td>\n",
       "      <td>/hazaron-khwahishen-aisi-1</td>\n",
       "      <td>Urdu</td>\n",
       "    </tr>\n",
       "    <tr>\n",
       "      <th>...</th>\n",
       "      <td>...</td>\n",
       "      <td>...</td>\n",
       "      <td>...</td>\n",
       "      <td>...</td>\n",
       "      <td>...</td>\n",
       "      <td>...</td>\n",
       "    </tr>\n",
       "    <tr>\n",
       "      <th>41350</th>\n",
       "      <td>Chaaridike Paaper Andhar (Manush Janam Diye Bi...</td>\n",
       "      <td>Kishore Kumar</td>\n",
       "      <td>/artist/kishore-kumar</td>\n",
       "      <td>03:23</td>\n",
       "      <td>/chaaridike-paaper-andhar-manush-janam-diye-bidhi</td>\n",
       "      <td>Bengali</td>\n",
       "    </tr>\n",
       "    <tr>\n",
       "      <th>41351</th>\n",
       "      <td>Ei Ki Go Shesh Daan</td>\n",
       "      <td>Feroza Begum</td>\n",
       "      <td>/artist/feroza-begum</td>\n",
       "      <td>03:56</td>\n",
       "      <td>/ei-kigo-sesh-daan</td>\n",
       "      <td>Bengali</td>\n",
       "    </tr>\n",
       "    <tr>\n",
       "      <th>41352</th>\n",
       "      <td>Ei Je Bangla</td>\n",
       "      <td>Sandhya Mukherjee|Hemant Kumar</td>\n",
       "      <td>/artist/sandhya-mukherjee|/artist/hemanta-mukh...</td>\n",
       "      <td>07:36</td>\n",
       "      <td>/ei-je-bangla</td>\n",
       "      <td>Bengali</td>\n",
       "    </tr>\n",
       "    <tr>\n",
       "      <th>41353</th>\n",
       "      <td>Jatone Hridaye Rekho</td>\n",
       "      <td>Ajoy Chakrabarty</td>\n",
       "      <td>/artist/ajoy-chakrabarty</td>\n",
       "      <td>04:29</td>\n",
       "      <td>/jatone-hridaye-rekho</td>\n",
       "      <td>Bengali</td>\n",
       "    </tr>\n",
       "    <tr>\n",
       "      <th>41354</th>\n",
       "      <td>Tomar Je Oi Haater Mala</td>\n",
       "      <td>Asha Bhosle</td>\n",
       "      <td>/artist/asha-bhosle-1</td>\n",
       "      <td>03:22</td>\n",
       "      <td>/tomar-je-oi-haater-mala</td>\n",
       "      <td>Bengali</td>\n",
       "    </tr>\n",
       "  </tbody>\n",
       "</table>\n",
       "<p>41355 rows × 6 columns</p>\n",
       "</div>"
      ],
      "text/plain": [
       "                                                    name  \\\n",
       "0                                  Dil - E - Nadan Tujhe   \n",
       "1                      Agar Hum Kahen Aur Woh Muskara De   \n",
       "2                                          Unke Dekhe Se   \n",
       "3                Yeh Na Thi Hamari Qismat - Chitra Singh   \n",
       "4                                Hazaron Khwahishen Aisi   \n",
       "...                                                  ...   \n",
       "41350  Chaaridike Paaper Andhar (Manush Janam Diye Bi...   \n",
       "41351                                Ei Ki Go Shesh Daan   \n",
       "41352                                       Ei Je Bangla   \n",
       "41353                               Jatone Hridaye Rekho   \n",
       "41354                            Tomar Je Oi Haater Mala   \n",
       "\n",
       "                               singer  \\\n",
       "0           Chitra Singh|Jagjit Singh   \n",
       "1           Chitra Singh|Jagjit Singh   \n",
       "2                        Jagjit Singh   \n",
       "3                        Chitra Singh   \n",
       "4                        Jagjit Singh   \n",
       "...                               ...   \n",
       "41350                   Kishore Kumar   \n",
       "41351                    Feroza Begum   \n",
       "41352  Sandhya Mukherjee|Hemant Kumar   \n",
       "41353                Ajoy Chakrabarty   \n",
       "41354                     Asha Bhosle   \n",
       "\n",
       "                                               singer_id duration  \\\n",
       "0           /artist/chitra-singh|/artist/jagjeet-singh-1    05:00   \n",
       "1           /artist/chitra-singh|/artist/jagjeet-singh-1    06:26   \n",
       "2                                /artist/jagjeet-singh-1    03:41   \n",
       "3                                   /artist/chitra-singh    04:26   \n",
       "4                                /artist/jagjeet-singh-1    05:39   \n",
       "...                                                  ...      ...   \n",
       "41350                              /artist/kishore-kumar    03:23   \n",
       "41351                               /artist/feroza-begum    03:56   \n",
       "41352  /artist/sandhya-mukherjee|/artist/hemanta-mukh...    07:36   \n",
       "41353                           /artist/ajoy-chakrabarty    04:29   \n",
       "41354                              /artist/asha-bhosle-1    03:22   \n",
       "\n",
       "                                                    link language  \n",
       "0                                   /dil-e-nadan-tujhe-3     Urdu  \n",
       "1                    /agar-hum-kahen-aur-woh-muskura-den     Urdu  \n",
       "2                                         /unke-dekhe-se     Urdu  \n",
       "3                            /yeh-na-thi-hamari-qismat-2     Urdu  \n",
       "4                             /hazaron-khwahishen-aisi-1     Urdu  \n",
       "...                                                  ...      ...  \n",
       "41350  /chaaridike-paaper-andhar-manush-janam-diye-bidhi  Bengali  \n",
       "41351                                 /ei-kigo-sesh-daan  Bengali  \n",
       "41352                                      /ei-je-bangla  Bengali  \n",
       "41353                              /jatone-hridaye-rekho  Bengali  \n",
       "41354                           /tomar-je-oi-haater-mala  Bengali  \n",
       "\n",
       "[41355 rows x 6 columns]"
      ]
     },
     "execution_count": 4,
     "metadata": {},
     "output_type": "execute_result"
    }
   ],
   "source": [
    "df"
   ]
  },
  {
   "cell_type": "markdown",
   "id": "9fce2d38",
   "metadata": {},
   "source": [
    ">> ## 1.3) Further Overall Exploration"
   ]
  },
  {
   "cell_type": "code",
   "execution_count": 5,
   "id": "33a53d82",
   "metadata": {},
   "outputs": [
    {
     "name": "stdout",
     "output_type": "stream",
     "text": [
      "<class 'pandas.core.frame.DataFrame'>\n",
      "RangeIndex: 41355 entries, 0 to 41354\n",
      "Data columns (total 6 columns):\n",
      " #   Column     Non-Null Count  Dtype \n",
      "---  ------     --------------  ----- \n",
      " 0   name       41355 non-null  object\n",
      " 1   singer     41355 non-null  object\n",
      " 2   singer_id  41355 non-null  object\n",
      " 3   duration   41355 non-null  object\n",
      " 4   link       41355 non-null  object\n",
      " 5   language   41355 non-null  object\n",
      "dtypes: object(6)\n",
      "memory usage: 1.9+ MB\n"
     ]
    }
   ],
   "source": [
    "df.info()"
   ]
  },
  {
   "cell_type": "code",
   "execution_count": 6,
   "id": "77baeb64",
   "metadata": {},
   "outputs": [
    {
     "data": {
      "text/plain": [
       "(41355, 6)"
      ]
     },
     "execution_count": 6,
     "metadata": {},
     "output_type": "execute_result"
    }
   ],
   "source": [
    "df.shape"
   ]
  },
  {
   "cell_type": "code",
   "execution_count": 7,
   "id": "a2b43c32",
   "metadata": {},
   "outputs": [
    {
     "data": {
      "text/html": [
       "<div>\n",
       "<style scoped>\n",
       "    .dataframe tbody tr th:only-of-type {\n",
       "        vertical-align: middle;\n",
       "    }\n",
       "\n",
       "    .dataframe tbody tr th {\n",
       "        vertical-align: top;\n",
       "    }\n",
       "\n",
       "    .dataframe thead th {\n",
       "        text-align: right;\n",
       "    }\n",
       "</style>\n",
       "<table border=\"1\" class=\"dataframe\">\n",
       "  <thead>\n",
       "    <tr style=\"text-align: right;\">\n",
       "      <th></th>\n",
       "      <th>name</th>\n",
       "      <th>singer</th>\n",
       "      <th>singer_id</th>\n",
       "      <th>duration</th>\n",
       "      <th>link</th>\n",
       "      <th>language</th>\n",
       "    </tr>\n",
       "  </thead>\n",
       "  <tbody>\n",
       "    <tr>\n",
       "      <th>count</th>\n",
       "      <td>41355</td>\n",
       "      <td>41355</td>\n",
       "      <td>41355</td>\n",
       "      <td>41355</td>\n",
       "      <td>41355</td>\n",
       "      <td>41355</td>\n",
       "    </tr>\n",
       "    <tr>\n",
       "      <th>unique</th>\n",
       "      <td>31534</td>\n",
       "      <td>6196</td>\n",
       "      <td>6580</td>\n",
       "      <td>1309</td>\n",
       "      <td>36361</td>\n",
       "      <td>16</td>\n",
       "    </tr>\n",
       "    <tr>\n",
       "      <th>top</th>\n",
       "      <td>O Mere Dil Ke Chain</td>\n",
       "      <td>Lata Mangeshkar</td>\n",
       "      <td>/artist/lata-mangeshkar</td>\n",
       "      <td>03:02</td>\n",
       "      <td>/aap-ke-aa-jane-se-1</td>\n",
       "      <td>Telugu</td>\n",
       "    </tr>\n",
       "    <tr>\n",
       "      <th>freq</th>\n",
       "      <td>26</td>\n",
       "      <td>1410</td>\n",
       "      <td>1410</td>\n",
       "      <td>447</td>\n",
       "      <td>2</td>\n",
       "      <td>4996</td>\n",
       "    </tr>\n",
       "  </tbody>\n",
       "</table>\n",
       "</div>"
      ],
      "text/plain": [
       "                       name           singer                singer_id  \\\n",
       "count                 41355            41355                    41355   \n",
       "unique                31534             6196                     6580   \n",
       "top     O Mere Dil Ke Chain  Lata Mangeshkar  /artist/lata-mangeshkar   \n",
       "freq                     26             1410                     1410   \n",
       "\n",
       "       duration                  link language  \n",
       "count     41355                 41355    41355  \n",
       "unique     1309                 36361       16  \n",
       "top       03:02  /aap-ke-aa-jane-se-1   Telugu  \n",
       "freq        447                     2     4996  "
      ]
     },
     "execution_count": 7,
     "metadata": {},
     "output_type": "execute_result"
    }
   ],
   "source": [
    "df.describe()"
   ]
  },
  {
   "cell_type": "code",
   "execution_count": 8,
   "id": "cbfcf138",
   "metadata": {},
   "outputs": [
    {
     "data": {
      "text/html": [
       "<div>\n",
       "<style scoped>\n",
       "    .dataframe tbody tr th:only-of-type {\n",
       "        vertical-align: middle;\n",
       "    }\n",
       "\n",
       "    .dataframe tbody tr th {\n",
       "        vertical-align: top;\n",
       "    }\n",
       "\n",
       "    .dataframe thead th {\n",
       "        text-align: right;\n",
       "    }\n",
       "</style>\n",
       "<table border=\"1\" class=\"dataframe\">\n",
       "  <thead>\n",
       "    <tr style=\"text-align: right;\">\n",
       "      <th></th>\n",
       "      <th>name</th>\n",
       "      <th>singer</th>\n",
       "      <th>singer_id</th>\n",
       "      <th>duration</th>\n",
       "      <th>link</th>\n",
       "      <th>language</th>\n",
       "    </tr>\n",
       "  </thead>\n",
       "  <tbody>\n",
       "    <tr>\n",
       "      <th>0</th>\n",
       "      <td>Dil - E - Nadan Tujhe</td>\n",
       "      <td>Chitra Singh|Jagjit Singh</td>\n",
       "      <td>/artist/chitra-singh|/artist/jagjeet-singh-1</td>\n",
       "      <td>05:00</td>\n",
       "      <td>/dil-e-nadan-tujhe-3</td>\n",
       "      <td>Urdu</td>\n",
       "    </tr>\n",
       "    <tr>\n",
       "      <th>1</th>\n",
       "      <td>Agar Hum Kahen Aur Woh Muskara De</td>\n",
       "      <td>Chitra Singh|Jagjit Singh</td>\n",
       "      <td>/artist/chitra-singh|/artist/jagjeet-singh-1</td>\n",
       "      <td>06:26</td>\n",
       "      <td>/agar-hum-kahen-aur-woh-muskura-den</td>\n",
       "      <td>Urdu</td>\n",
       "    </tr>\n",
       "    <tr>\n",
       "      <th>2</th>\n",
       "      <td>Unke Dekhe Se</td>\n",
       "      <td>Jagjit Singh</td>\n",
       "      <td>/artist/jagjeet-singh-1</td>\n",
       "      <td>03:41</td>\n",
       "      <td>/unke-dekhe-se</td>\n",
       "      <td>Urdu</td>\n",
       "    </tr>\n",
       "    <tr>\n",
       "      <th>3</th>\n",
       "      <td>Yeh Na Thi Hamari Qismat - Chitra Singh</td>\n",
       "      <td>Chitra Singh</td>\n",
       "      <td>/artist/chitra-singh</td>\n",
       "      <td>04:26</td>\n",
       "      <td>/yeh-na-thi-hamari-qismat-2</td>\n",
       "      <td>Urdu</td>\n",
       "    </tr>\n",
       "    <tr>\n",
       "      <th>4</th>\n",
       "      <td>Hazaron Khwahishen Aisi</td>\n",
       "      <td>Jagjit Singh</td>\n",
       "      <td>/artist/jagjeet-singh-1</td>\n",
       "      <td>05:39</td>\n",
       "      <td>/hazaron-khwahishen-aisi-1</td>\n",
       "      <td>Urdu</td>\n",
       "    </tr>\n",
       "    <tr>\n",
       "      <th>...</th>\n",
       "      <td>...</td>\n",
       "      <td>...</td>\n",
       "      <td>...</td>\n",
       "      <td>...</td>\n",
       "      <td>...</td>\n",
       "      <td>...</td>\n",
       "    </tr>\n",
       "    <tr>\n",
       "      <th>3111</th>\n",
       "      <td>Salam</td>\n",
       "      <td>Farhat Shuja</td>\n",
       "      <td>/artist/farhat-shuja</td>\n",
       "      <td>10:04</td>\n",
       "      <td>/salam-44</td>\n",
       "      <td>Urdu</td>\n",
       "    </tr>\n",
       "    <tr>\n",
       "      <th>3112</th>\n",
       "      <td>Thumri Tilang - Sajia Akeli Dukh De</td>\n",
       "      <td>Badar Uz Zaman|Qamar Uz Zaman</td>\n",
       "      <td>/artist/badar-uz-zaman-1|/artist/qamar-uz-zaman-1</td>\n",
       "      <td>06:11</td>\n",
       "      <td>/thumri-tilang-sajia-akeli-dukh-de</td>\n",
       "      <td>Urdu</td>\n",
       "    </tr>\n",
       "    <tr>\n",
       "      <th>3113</th>\n",
       "      <td>Sanwar Sanwar Kar</td>\n",
       "      <td>Mumtaz Shirazi</td>\n",
       "      <td>/artist/mumtaz-shirazi</td>\n",
       "      <td>04:45</td>\n",
       "      <td>/sanwar-sanwar-kar</td>\n",
       "      <td>Urdu</td>\n",
       "    </tr>\n",
       "    <tr>\n",
       "      <th>3114</th>\n",
       "      <td>Jo Teri Sana Mein</td>\n",
       "      <td>Muzaffar Warisi</td>\n",
       "      <td>/artist/muzaffar-warisi</td>\n",
       "      <td>06:16</td>\n",
       "      <td>/jo-teri-sana-mein</td>\n",
       "      <td>Urdu</td>\n",
       "    </tr>\n",
       "    <tr>\n",
       "      <th>3115</th>\n",
       "      <td>Lucky Seven &amp; Lucky Thirteen</td>\n",
       "      <td>Karim Shahab ud Din</td>\n",
       "      <td>/artist/karim-shahab-ud-din</td>\n",
       "      <td>03:04</td>\n",
       "      <td>/lucky-seven-lucky-thirteen</td>\n",
       "      <td>Urdu</td>\n",
       "    </tr>\n",
       "  </tbody>\n",
       "</table>\n",
       "<p>3116 rows × 6 columns</p>\n",
       "</div>"
      ],
      "text/plain": [
       "                                         name                         singer  \\\n",
       "0                       Dil - E - Nadan Tujhe      Chitra Singh|Jagjit Singh   \n",
       "1           Agar Hum Kahen Aur Woh Muskara De      Chitra Singh|Jagjit Singh   \n",
       "2                               Unke Dekhe Se                   Jagjit Singh   \n",
       "3     Yeh Na Thi Hamari Qismat - Chitra Singh                   Chitra Singh   \n",
       "4                     Hazaron Khwahishen Aisi                   Jagjit Singh   \n",
       "...                                       ...                            ...   \n",
       "3111                                    Salam                   Farhat Shuja   \n",
       "3112      Thumri Tilang - Sajia Akeli Dukh De  Badar Uz Zaman|Qamar Uz Zaman   \n",
       "3113                        Sanwar Sanwar Kar                 Mumtaz Shirazi   \n",
       "3114                        Jo Teri Sana Mein                Muzaffar Warisi   \n",
       "3115             Lucky Seven & Lucky Thirteen            Karim Shahab ud Din   \n",
       "\n",
       "                                              singer_id duration  \\\n",
       "0          /artist/chitra-singh|/artist/jagjeet-singh-1    05:00   \n",
       "1          /artist/chitra-singh|/artist/jagjeet-singh-1    06:26   \n",
       "2                               /artist/jagjeet-singh-1    03:41   \n",
       "3                                  /artist/chitra-singh    04:26   \n",
       "4                               /artist/jagjeet-singh-1    05:39   \n",
       "...                                                 ...      ...   \n",
       "3111                               /artist/farhat-shuja    10:04   \n",
       "3112  /artist/badar-uz-zaman-1|/artist/qamar-uz-zaman-1    06:11   \n",
       "3113                             /artist/mumtaz-shirazi    04:45   \n",
       "3114                            /artist/muzaffar-warisi    06:16   \n",
       "3115                        /artist/karim-shahab-ud-din    03:04   \n",
       "\n",
       "                                     link language  \n",
       "0                    /dil-e-nadan-tujhe-3     Urdu  \n",
       "1     /agar-hum-kahen-aur-woh-muskura-den     Urdu  \n",
       "2                          /unke-dekhe-se     Urdu  \n",
       "3             /yeh-na-thi-hamari-qismat-2     Urdu  \n",
       "4              /hazaron-khwahishen-aisi-1     Urdu  \n",
       "...                                   ...      ...  \n",
       "3111                            /salam-44     Urdu  \n",
       "3112   /thumri-tilang-sajia-akeli-dukh-de     Urdu  \n",
       "3113                   /sanwar-sanwar-kar     Urdu  \n",
       "3114                   /jo-teri-sana-mein     Urdu  \n",
       "3115          /lucky-seven-lucky-thirteen     Urdu  \n",
       "\n",
       "[3116 rows x 6 columns]"
      ]
     },
     "execution_count": 8,
     "metadata": {},
     "output_type": "execute_result"
    }
   ],
   "source": [
    "df[df['language'] == 'Urdu']"
   ]
  },
  {
   "cell_type": "code",
   "execution_count": 9,
   "id": "dcd50884",
   "metadata": {},
   "outputs": [
    {
     "data": {
      "text/plain": [
       "language\n",
       "Telugu        4996\n",
       "Hindi         4993\n",
       "Old           4993\n",
       "Marathi       4699\n",
       "Tamil         4677\n",
       "Punjabi       3818\n",
       "Kannada       3559\n",
       "Urdu          3116\n",
       "Gujarati      2115\n",
       "Bengali        958\n",
       "Odia           940\n",
       "Assamese       724\n",
       "Rajasthani     541\n",
       "Bhojpuri       519\n",
       "Malayalam      479\n",
       "Haryanvi       228\n",
       "Name: count, dtype: int64"
      ]
     },
     "execution_count": 9,
     "metadata": {},
     "output_type": "execute_result"
    }
   ],
   "source": [
    "df['language'].value_counts()"
   ]
  },
  {
   "cell_type": "code",
   "execution_count": 10,
   "id": "2da35ee7",
   "metadata": {},
   "outputs": [
    {
     "data": {
      "text/plain": [
       "4993"
      ]
     },
     "execution_count": 10,
     "metadata": {},
     "output_type": "execute_result"
    }
   ],
   "source": [
    "len(df[df['language'] == 'Hindi'])"
   ]
  },
  {
   "cell_type": "code",
   "execution_count": 11,
   "id": "a92db326",
   "metadata": {},
   "outputs": [
    {
     "name": "stdout",
     "output_type": "stream",
     "text": [
      "Urdu 3116\n",
      "Gujarati 2115\n",
      "Tamil 4677\n",
      "Kannada 3559\n",
      "Rajasthani 541\n",
      "Haryanvi 228\n",
      "Punjabi 3818\n",
      "Hindi 4993\n",
      "Old 4993\n",
      "Malayalam 479\n",
      "Marathi 4699\n",
      "Telugu 4996\n",
      "Odia 940\n",
      "Bhojpuri 519\n",
      "Assamese 724\n",
      "Bengali 958\n"
     ]
    }
   ],
   "source": [
    "for i in df['language'].unique():\n",
    "    print(i, len(df[df['language'] == i ]))"
   ]
  },
  {
   "cell_type": "code",
   "execution_count": 13,
   "id": "687df38c",
   "metadata": {},
   "outputs": [
    {
     "data": {
      "text/plain": [
       "singer_id\n",
       "/artist/jagjeet-singh-1    172\n",
       "Name: count, dtype: int64"
      ]
     },
     "execution_count": 13,
     "metadata": {},
     "output_type": "execute_result"
    }
   ],
   "source": [
    "### Filter out a value where Singer is Jagjit singh and the language is urdu\n",
    "\n",
    "df[(df['singer'] == 'Jagjit Singh')]['singer_id'].value_counts()"
   ]
  },
  {
   "cell_type": "markdown",
   "id": "1fae69f3",
   "metadata": {},
   "source": [
    ">> ## 1.4) Checking for NULL Values"
   ]
  },
  {
   "cell_type": "code",
   "execution_count": 14,
   "id": "1d33b494",
   "metadata": {},
   "outputs": [
    {
     "data": {
      "text/plain": [
       "name         0\n",
       "singer       0\n",
       "singer_id    0\n",
       "duration     0\n",
       "link         0\n",
       "language     0\n",
       "dtype: int64"
      ]
     },
     "execution_count": 14,
     "metadata": {},
     "output_type": "execute_result"
    }
   ],
   "source": [
    "df.isnull().sum()"
   ]
  },
  {
   "cell_type": "markdown",
   "id": "deb3e12b",
   "metadata": {},
   "source": [
    ">> ## 1.5) Checking for any Duplicates"
   ]
  },
  {
   "cell_type": "code",
   "execution_count": 15,
   "id": "c20217fc",
   "metadata": {},
   "outputs": [
    {
     "data": {
      "text/plain": [
       "np.int64(4994)"
      ]
     },
     "execution_count": 15,
     "metadata": {},
     "output_type": "execute_result"
    }
   ],
   "source": [
    "df['link'].duplicated().sum()"
   ]
  },
  {
   "cell_type": "code",
   "execution_count": 16,
   "id": "7901b411",
   "metadata": {},
   "outputs": [
    {
     "data": {
      "text/html": [
       "<div>\n",
       "<style scoped>\n",
       "    .dataframe tbody tr th:only-of-type {\n",
       "        vertical-align: middle;\n",
       "    }\n",
       "\n",
       "    .dataframe tbody tr th {\n",
       "        vertical-align: top;\n",
       "    }\n",
       "\n",
       "    .dataframe thead th {\n",
       "        text-align: right;\n",
       "    }\n",
       "</style>\n",
       "<table border=\"1\" class=\"dataframe\">\n",
       "  <thead>\n",
       "    <tr style=\"text-align: right;\">\n",
       "      <th></th>\n",
       "      <th>name</th>\n",
       "      <th>singer</th>\n",
       "      <th>singer_id</th>\n",
       "      <th>duration</th>\n",
       "      <th>link</th>\n",
       "      <th>language</th>\n",
       "    </tr>\n",
       "  </thead>\n",
       "  <tbody>\n",
       "    <tr>\n",
       "      <th>23047</th>\n",
       "      <td>Bheegi Bheegi Raaton Mein</td>\n",
       "      <td>Kishore Kumar|Lata Mangeshkar</td>\n",
       "      <td>/artist/kishore-kumar|/artist/lata-mangeshkar</td>\n",
       "      <td>03:54</td>\n",
       "      <td>/bheegi-bheegi-raaton-mein</td>\n",
       "      <td>Old</td>\n",
       "    </tr>\n",
       "    <tr>\n",
       "      <th>23048</th>\n",
       "      <td>Aap Ki Ankhon Mein Kuch</td>\n",
       "      <td>Kishore Kumar|Lata Mangeshkar</td>\n",
       "      <td>/artist/kishore-kumar|/artist/lata-mangeshkar</td>\n",
       "      <td>04:09</td>\n",
       "      <td>/aap-ki-ankhon-mein-kuchh</td>\n",
       "      <td>Old</td>\n",
       "    </tr>\n",
       "    <tr>\n",
       "      <th>23049</th>\n",
       "      <td>Tum Aa Gaye Ho Noor Aa Gaya</td>\n",
       "      <td>Kishore Kumar|Lata Mangeshkar</td>\n",
       "      <td>/artist/kishore-kumar|/artist/lata-mangeshkar</td>\n",
       "      <td>04:13</td>\n",
       "      <td>/tum-aa-gaye-ho-noor-aa-gaya</td>\n",
       "      <td>Old</td>\n",
       "    </tr>\n",
       "    <tr>\n",
       "      <th>23050</th>\n",
       "      <td>Hamen Tumse Pyar Kitna</td>\n",
       "      <td>Kishore Kumar</td>\n",
       "      <td>/artist/kishore-kumar</td>\n",
       "      <td>04:02</td>\n",
       "      <td>/hamen-tumse-pyar-kitna-2</td>\n",
       "      <td>Old</td>\n",
       "    </tr>\n",
       "    <tr>\n",
       "      <th>23051</th>\n",
       "      <td>Tere Bina Zindagi Se</td>\n",
       "      <td>Kishore Kumar|Lata Mangeshkar</td>\n",
       "      <td>/artist/kishore-kumar|/artist/lata-mangeshkar</td>\n",
       "      <td>05:54</td>\n",
       "      <td>/tere-bina-zindagi-se-1</td>\n",
       "      <td>Old</td>\n",
       "    </tr>\n",
       "    <tr>\n",
       "      <th>...</th>\n",
       "      <td>...</td>\n",
       "      <td>...</td>\n",
       "      <td>...</td>\n",
       "      <td>...</td>\n",
       "      <td>...</td>\n",
       "      <td>...</td>\n",
       "    </tr>\n",
       "    <tr>\n",
       "      <th>28036</th>\n",
       "      <td>Apne Hathon Ki Lakiron Mein</td>\n",
       "      <td>Manhar Udhas</td>\n",
       "      <td>/artist/manhar-udhas</td>\n",
       "      <td>06:43</td>\n",
       "      <td>/apne-hathon-ki-lakiron-mein</td>\n",
       "      <td>Old</td>\n",
       "    </tr>\n",
       "    <tr>\n",
       "      <th>28037</th>\n",
       "      <td>Gori Chalo Na Hans Ki Chaal</td>\n",
       "      <td>Asha Bhosle|Mohammed Rafi</td>\n",
       "      <td>/artist/asha-bhosle-1|/artist/mohammad-rafi</td>\n",
       "      <td>03:33</td>\n",
       "      <td>/gori-chalo-na-hans-ki-chaal</td>\n",
       "      <td>Old</td>\n",
       "    </tr>\n",
       "    <tr>\n",
       "      <th>28038</th>\n",
       "      <td>Zindagi Ki Na Toote Ladi</td>\n",
       "      <td>Lata Mangeshkar|Nitin Mukesh</td>\n",
       "      <td>/artist/lata-mangeshkar|/artist/nitin-mukesh</td>\n",
       "      <td>07:02</td>\n",
       "      <td>/zindagi-ki-na-toote-ladi-2</td>\n",
       "      <td>Old</td>\n",
       "    </tr>\n",
       "    <tr>\n",
       "      <th>28039</th>\n",
       "      <td>Diwana Leke Aaya Hai</td>\n",
       "      <td>Kishore Kumar</td>\n",
       "      <td>/artist/kishore-kumar</td>\n",
       "      <td>04:39</td>\n",
       "      <td>/diwana-leke-aaya-hai-7</td>\n",
       "      <td>Old</td>\n",
       "    </tr>\n",
       "    <tr>\n",
       "      <th>37215</th>\n",
       "      <td>Intheraa Ee Jeevitham</td>\n",
       "      <td>Ghanatasala</td>\n",
       "      <td>/artist/ghanatasala</td>\n",
       "      <td>05:18</td>\n",
       "      <td>/intheraa-ee-jeevitham</td>\n",
       "      <td>Telugu</td>\n",
       "    </tr>\n",
       "  </tbody>\n",
       "</table>\n",
       "<p>4994 rows × 6 columns</p>\n",
       "</div>"
      ],
      "text/plain": [
       "                              name                         singer  \\\n",
       "23047    Bheegi Bheegi Raaton Mein  Kishore Kumar|Lata Mangeshkar   \n",
       "23048      Aap Ki Ankhon Mein Kuch  Kishore Kumar|Lata Mangeshkar   \n",
       "23049  Tum Aa Gaye Ho Noor Aa Gaya  Kishore Kumar|Lata Mangeshkar   \n",
       "23050       Hamen Tumse Pyar Kitna                  Kishore Kumar   \n",
       "23051         Tere Bina Zindagi Se  Kishore Kumar|Lata Mangeshkar   \n",
       "...                            ...                            ...   \n",
       "28036  Apne Hathon Ki Lakiron Mein                   Manhar Udhas   \n",
       "28037  Gori Chalo Na Hans Ki Chaal      Asha Bhosle|Mohammed Rafi   \n",
       "28038     Zindagi Ki Na Toote Ladi   Lata Mangeshkar|Nitin Mukesh   \n",
       "28039         Diwana Leke Aaya Hai                  Kishore Kumar   \n",
       "37215        Intheraa Ee Jeevitham                    Ghanatasala   \n",
       "\n",
       "                                           singer_id duration  \\\n",
       "23047  /artist/kishore-kumar|/artist/lata-mangeshkar    03:54   \n",
       "23048  /artist/kishore-kumar|/artist/lata-mangeshkar    04:09   \n",
       "23049  /artist/kishore-kumar|/artist/lata-mangeshkar    04:13   \n",
       "23050                          /artist/kishore-kumar    04:02   \n",
       "23051  /artist/kishore-kumar|/artist/lata-mangeshkar    05:54   \n",
       "...                                              ...      ...   \n",
       "28036                           /artist/manhar-udhas    06:43   \n",
       "28037    /artist/asha-bhosle-1|/artist/mohammad-rafi    03:33   \n",
       "28038   /artist/lata-mangeshkar|/artist/nitin-mukesh    07:02   \n",
       "28039                          /artist/kishore-kumar    04:39   \n",
       "37215                            /artist/ghanatasala    05:18   \n",
       "\n",
       "                               link language  \n",
       "23047    /bheegi-bheegi-raaton-mein      Old  \n",
       "23048     /aap-ki-ankhon-mein-kuchh      Old  \n",
       "23049  /tum-aa-gaye-ho-noor-aa-gaya      Old  \n",
       "23050     /hamen-tumse-pyar-kitna-2      Old  \n",
       "23051       /tere-bina-zindagi-se-1      Old  \n",
       "...                             ...      ...  \n",
       "28036  /apne-hathon-ki-lakiron-mein      Old  \n",
       "28037  /gori-chalo-na-hans-ki-chaal      Old  \n",
       "28038   /zindagi-ki-na-toote-ladi-2      Old  \n",
       "28039       /diwana-leke-aaya-hai-7      Old  \n",
       "37215        /intheraa-ee-jeevitham   Telugu  \n",
       "\n",
       "[4994 rows x 6 columns]"
      ]
     },
     "execution_count": 16,
     "metadata": {},
     "output_type": "execute_result"
    }
   ],
   "source": [
    "df[df['link'].duplicated()]"
   ]
  },
  {
   "cell_type": "code",
   "execution_count": 17,
   "id": "4111a03c",
   "metadata": {},
   "outputs": [],
   "source": [
    "df_ = df[df['link'].duplicated()]"
   ]
  },
  {
   "cell_type": "code",
   "execution_count": 18,
   "id": "aa9557ce",
   "metadata": {},
   "outputs": [
    {
     "data": {
      "text/html": [
       "<div>\n",
       "<style scoped>\n",
       "    .dataframe tbody tr th:only-of-type {\n",
       "        vertical-align: middle;\n",
       "    }\n",
       "\n",
       "    .dataframe tbody tr th {\n",
       "        vertical-align: top;\n",
       "    }\n",
       "\n",
       "    .dataframe thead th {\n",
       "        text-align: right;\n",
       "    }\n",
       "</style>\n",
       "<table border=\"1\" class=\"dataframe\">\n",
       "  <thead>\n",
       "    <tr style=\"text-align: right;\">\n",
       "      <th></th>\n",
       "      <th>name</th>\n",
       "      <th>singer</th>\n",
       "      <th>singer_id</th>\n",
       "      <th>duration</th>\n",
       "      <th>link</th>\n",
       "      <th>language</th>\n",
       "    </tr>\n",
       "  </thead>\n",
       "  <tbody>\n",
       "    <tr>\n",
       "      <th>count</th>\n",
       "      <td>4994</td>\n",
       "      <td>4994</td>\n",
       "      <td>4994</td>\n",
       "      <td>4994</td>\n",
       "      <td>4994</td>\n",
       "      <td>4994</td>\n",
       "    </tr>\n",
       "    <tr>\n",
       "      <th>unique</th>\n",
       "      <td>3821</td>\n",
       "      <td>923</td>\n",
       "      <td>927</td>\n",
       "      <td>527</td>\n",
       "      <td>4994</td>\n",
       "      <td>2</td>\n",
       "    </tr>\n",
       "    <tr>\n",
       "      <th>top</th>\n",
       "      <td>O Mere Dil Ke Chain</td>\n",
       "      <td>Lata Mangeshkar</td>\n",
       "      <td>/artist/lata-mangeshkar</td>\n",
       "      <td>04:01</td>\n",
       "      <td>/intheraa-ee-jeevitham</td>\n",
       "      <td>Old</td>\n",
       "    </tr>\n",
       "    <tr>\n",
       "      <th>freq</th>\n",
       "      <td>13</td>\n",
       "      <td>554</td>\n",
       "      <td>554</td>\n",
       "      <td>55</td>\n",
       "      <td>1</td>\n",
       "      <td>4993</td>\n",
       "    </tr>\n",
       "  </tbody>\n",
       "</table>\n",
       "</div>"
      ],
      "text/plain": [
       "                       name           singer                singer_id  \\\n",
       "count                  4994             4994                     4994   \n",
       "unique                 3821              923                      927   \n",
       "top     O Mere Dil Ke Chain  Lata Mangeshkar  /artist/lata-mangeshkar   \n",
       "freq                     13              554                      554   \n",
       "\n",
       "       duration                    link language  \n",
       "count      4994                    4994     4994  \n",
       "unique      527                    4994        2  \n",
       "top       04:01  /intheraa-ee-jeevitham      Old  \n",
       "freq         55                       1     4993  "
      ]
     },
     "execution_count": 18,
     "metadata": {},
     "output_type": "execute_result"
    }
   ],
   "source": [
    "df_.describe()"
   ]
  },
  {
   "cell_type": "code",
   "execution_count": 19,
   "id": "b6857886",
   "metadata": {},
   "outputs": [
    {
     "data": {
      "text/plain": [
       "4993"
      ]
     },
     "execution_count": 19,
     "metadata": {},
     "output_type": "execute_result"
    }
   ],
   "source": [
    "len(df[df['language'] == 'Old'])"
   ]
  },
  {
   "cell_type": "code",
   "execution_count": 20,
   "id": "acfa4ca2",
   "metadata": {},
   "outputs": [
    {
     "data": {
      "text/plain": [
       "array(['Urdu', 'Gujarati', 'Tamil', 'Kannada', 'Rajasthani', 'Haryanvi',\n",
       "       'Punjabi', 'Hindi', 'Old', 'Malayalam', 'Marathi', 'Telugu',\n",
       "       'Odia', 'Bhojpuri', 'Assamese', 'Bengali'], dtype=object)"
      ]
     },
     "execution_count": 20,
     "metadata": {},
     "output_type": "execute_result"
    }
   ],
   "source": [
    "df['language'].unique()"
   ]
  },
  {
   "cell_type": "code",
   "execution_count": 21,
   "id": "5d09be63",
   "metadata": {},
   "outputs": [
    {
     "data": {
      "text/plain": [
       "singer\n",
       "Lata Mangeshkar                              554\n",
       "Kishore Kumar                                550\n",
       "Mohammed Rafi                                503\n",
       "Asha Bhosle                                  237\n",
       "Kishore Kumar|Lata Mangeshkar                225\n",
       "                                            ... \n",
       "Manna Dey|Asha Bhosle                          1\n",
       "Rajesh Khanna|Kishore Kumar                    1\n",
       "Sharad Kumar|Amitabh Bachchan|Asha Bhosle      1\n",
       "Asha Bhosle|Kamal Barot|Usha Mangeshkar        1\n",
       "Uttara Kelkar|Vijay Benedict                   1\n",
       "Name: count, Length: 922, dtype: int64"
      ]
     },
     "execution_count": 21,
     "metadata": {},
     "output_type": "execute_result"
    }
   ],
   "source": [
    "df[df['language'] == 'Old']['singer'].value_counts()"
   ]
  },
  {
   "cell_type": "markdown",
   "id": "92a1250a",
   "metadata": {},
   "source": [
    ">>>> * Checking for Proof that are the songs of OLD and Hindi Same"
   ]
  },
  {
   "cell_type": "code",
   "execution_count": 24,
   "id": "f8ac616e",
   "metadata": {},
   "outputs": [
    {
     "data": {
      "text/html": [
       "<div>\n",
       "<style scoped>\n",
       "    .dataframe tbody tr th:only-of-type {\n",
       "        vertical-align: middle;\n",
       "    }\n",
       "\n",
       "    .dataframe tbody tr th {\n",
       "        vertical-align: top;\n",
       "    }\n",
       "\n",
       "    .dataframe thead th {\n",
       "        text-align: right;\n",
       "    }\n",
       "</style>\n",
       "<table border=\"1\" class=\"dataframe\">\n",
       "  <thead>\n",
       "    <tr style=\"text-align: right;\">\n",
       "      <th></th>\n",
       "      <th>name</th>\n",
       "      <th>singer</th>\n",
       "      <th>singer_id</th>\n",
       "      <th>duration</th>\n",
       "      <th>link</th>\n",
       "      <th>language</th>\n",
       "    </tr>\n",
       "  </thead>\n",
       "  <tbody>\n",
       "    <tr>\n",
       "      <th>18054</th>\n",
       "      <td>Bheegi Bheegi Raaton Mein</td>\n",
       "      <td>Kishore Kumar|Lata Mangeshkar</td>\n",
       "      <td>/artist/kishore-kumar|/artist/lata-mangeshkar</td>\n",
       "      <td>03:54</td>\n",
       "      <td>/bheegi-bheegi-raaton-mein</td>\n",
       "      <td>Hindi</td>\n",
       "    </tr>\n",
       "    <tr>\n",
       "      <th>18055</th>\n",
       "      <td>Aap Ki Ankhon Mein Kuch</td>\n",
       "      <td>Kishore Kumar|Lata Mangeshkar</td>\n",
       "      <td>/artist/kishore-kumar|/artist/lata-mangeshkar</td>\n",
       "      <td>04:09</td>\n",
       "      <td>/aap-ki-ankhon-mein-kuchh</td>\n",
       "      <td>Hindi</td>\n",
       "    </tr>\n",
       "    <tr>\n",
       "      <th>18056</th>\n",
       "      <td>Tum Aa Gaye Ho Noor Aa Gaya</td>\n",
       "      <td>Kishore Kumar|Lata Mangeshkar</td>\n",
       "      <td>/artist/kishore-kumar|/artist/lata-mangeshkar</td>\n",
       "      <td>04:13</td>\n",
       "      <td>/tum-aa-gaye-ho-noor-aa-gaya</td>\n",
       "      <td>Hindi</td>\n",
       "    </tr>\n",
       "    <tr>\n",
       "      <th>18057</th>\n",
       "      <td>Hamen Tumse Pyar Kitna</td>\n",
       "      <td>Kishore Kumar</td>\n",
       "      <td>/artist/kishore-kumar</td>\n",
       "      <td>04:02</td>\n",
       "      <td>/hamen-tumse-pyar-kitna-2</td>\n",
       "      <td>Hindi</td>\n",
       "    </tr>\n",
       "    <tr>\n",
       "      <th>18058</th>\n",
       "      <td>Tere Bina Zindagi Se</td>\n",
       "      <td>Kishore Kumar|Lata Mangeshkar</td>\n",
       "      <td>/artist/kishore-kumar|/artist/lata-mangeshkar</td>\n",
       "      <td>05:54</td>\n",
       "      <td>/tere-bina-zindagi-se-1</td>\n",
       "      <td>Hindi</td>\n",
       "    </tr>\n",
       "    <tr>\n",
       "      <th>...</th>\n",
       "      <td>...</td>\n",
       "      <td>...</td>\n",
       "      <td>...</td>\n",
       "      <td>...</td>\n",
       "      <td>...</td>\n",
       "      <td>...</td>\n",
       "    </tr>\n",
       "    <tr>\n",
       "      <th>28035</th>\n",
       "      <td>Nigahen Milane Ko Jee Chahta Hai</td>\n",
       "      <td>Asha Bhosle</td>\n",
       "      <td>/artist/asha-bhosle-1</td>\n",
       "      <td>06:34</td>\n",
       "      <td>/nigahen-milane-ko-jee-chahta-hai-3</td>\n",
       "      <td>Old</td>\n",
       "    </tr>\n",
       "    <tr>\n",
       "      <th>28036</th>\n",
       "      <td>Apne Hathon Ki Lakiron Mein</td>\n",
       "      <td>Manhar Udhas</td>\n",
       "      <td>/artist/manhar-udhas</td>\n",
       "      <td>06:43</td>\n",
       "      <td>/apne-hathon-ki-lakiron-mein</td>\n",
       "      <td>Old</td>\n",
       "    </tr>\n",
       "    <tr>\n",
       "      <th>28037</th>\n",
       "      <td>Gori Chalo Na Hans Ki Chaal</td>\n",
       "      <td>Asha Bhosle|Mohammed Rafi</td>\n",
       "      <td>/artist/asha-bhosle-1|/artist/mohammad-rafi</td>\n",
       "      <td>03:33</td>\n",
       "      <td>/gori-chalo-na-hans-ki-chaal</td>\n",
       "      <td>Old</td>\n",
       "    </tr>\n",
       "    <tr>\n",
       "      <th>28038</th>\n",
       "      <td>Zindagi Ki Na Toote Ladi</td>\n",
       "      <td>Lata Mangeshkar|Nitin Mukesh</td>\n",
       "      <td>/artist/lata-mangeshkar|/artist/nitin-mukesh</td>\n",
       "      <td>07:02</td>\n",
       "      <td>/zindagi-ki-na-toote-ladi-2</td>\n",
       "      <td>Old</td>\n",
       "    </tr>\n",
       "    <tr>\n",
       "      <th>28039</th>\n",
       "      <td>Diwana Leke Aaya Hai</td>\n",
       "      <td>Kishore Kumar</td>\n",
       "      <td>/artist/kishore-kumar</td>\n",
       "      <td>04:39</td>\n",
       "      <td>/diwana-leke-aaya-hai-7</td>\n",
       "      <td>Old</td>\n",
       "    </tr>\n",
       "  </tbody>\n",
       "</table>\n",
       "<p>9986 rows × 6 columns</p>\n",
       "</div>"
      ],
      "text/plain": [
       "                                   name                         singer  \\\n",
       "18054         Bheegi Bheegi Raaton Mein  Kishore Kumar|Lata Mangeshkar   \n",
       "18055           Aap Ki Ankhon Mein Kuch  Kishore Kumar|Lata Mangeshkar   \n",
       "18056       Tum Aa Gaye Ho Noor Aa Gaya  Kishore Kumar|Lata Mangeshkar   \n",
       "18057            Hamen Tumse Pyar Kitna                  Kishore Kumar   \n",
       "18058              Tere Bina Zindagi Se  Kishore Kumar|Lata Mangeshkar   \n",
       "...                                 ...                            ...   \n",
       "28035  Nigahen Milane Ko Jee Chahta Hai                    Asha Bhosle   \n",
       "28036       Apne Hathon Ki Lakiron Mein                   Manhar Udhas   \n",
       "28037       Gori Chalo Na Hans Ki Chaal      Asha Bhosle|Mohammed Rafi   \n",
       "28038          Zindagi Ki Na Toote Ladi   Lata Mangeshkar|Nitin Mukesh   \n",
       "28039              Diwana Leke Aaya Hai                  Kishore Kumar   \n",
       "\n",
       "                                           singer_id duration  \\\n",
       "18054  /artist/kishore-kumar|/artist/lata-mangeshkar    03:54   \n",
       "18055  /artist/kishore-kumar|/artist/lata-mangeshkar    04:09   \n",
       "18056  /artist/kishore-kumar|/artist/lata-mangeshkar    04:13   \n",
       "18057                          /artist/kishore-kumar    04:02   \n",
       "18058  /artist/kishore-kumar|/artist/lata-mangeshkar    05:54   \n",
       "...                                              ...      ...   \n",
       "28035                          /artist/asha-bhosle-1    06:34   \n",
       "28036                           /artist/manhar-udhas    06:43   \n",
       "28037    /artist/asha-bhosle-1|/artist/mohammad-rafi    03:33   \n",
       "28038   /artist/lata-mangeshkar|/artist/nitin-mukesh    07:02   \n",
       "28039                          /artist/kishore-kumar    04:39   \n",
       "\n",
       "                                      link language  \n",
       "18054           /bheegi-bheegi-raaton-mein    Hindi  \n",
       "18055            /aap-ki-ankhon-mein-kuchh    Hindi  \n",
       "18056         /tum-aa-gaye-ho-noor-aa-gaya    Hindi  \n",
       "18057            /hamen-tumse-pyar-kitna-2    Hindi  \n",
       "18058              /tere-bina-zindagi-se-1    Hindi  \n",
       "...                                    ...      ...  \n",
       "28035  /nigahen-milane-ko-jee-chahta-hai-3      Old  \n",
       "28036         /apne-hathon-ki-lakiron-mein      Old  \n",
       "28037         /gori-chalo-na-hans-ki-chaal      Old  \n",
       "28038          /zindagi-ki-na-toote-ladi-2      Old  \n",
       "28039              /diwana-leke-aaya-hai-7      Old  \n",
       "\n",
       "[9986 rows x 6 columns]"
      ]
     },
     "execution_count": 24,
     "metadata": {},
     "output_type": "execute_result"
    }
   ],
   "source": [
    "df_ = df[(df['language'] == 'Hindi') | (df['language'] == 'Old')]\n",
    "df_"
   ]
  },
  {
   "cell_type": "code",
   "execution_count": 25,
   "id": "9b2ea62c",
   "metadata": {},
   "outputs": [
    {
     "data": {
      "text/plain": [
       "np.int64(0)"
      ]
     },
     "execution_count": 25,
     "metadata": {},
     "output_type": "execute_result"
    }
   ],
   "source": [
    "df_.duplicated().sum()"
   ]
  },
  {
   "cell_type": "code",
   "execution_count": 26,
   "id": "b2a901b9",
   "metadata": {},
   "outputs": [
    {
     "data": {
      "text/plain": [
       "np.int64(4993)"
      ]
     },
     "execution_count": 26,
     "metadata": {},
     "output_type": "execute_result"
    }
   ],
   "source": [
    "df_['link'].duplicated().sum()"
   ]
  },
  {
   "cell_type": "markdown",
   "id": "902faaa4",
   "metadata": {},
   "source": [
    ">> ## 1.6) Removing Duplicates"
   ]
  },
  {
   "cell_type": "code",
   "execution_count": 27,
   "id": "3adf00c7",
   "metadata": {},
   "outputs": [
    {
     "data": {
      "text/html": [
       "<div>\n",
       "<style scoped>\n",
       "    .dataframe tbody tr th:only-of-type {\n",
       "        vertical-align: middle;\n",
       "    }\n",
       "\n",
       "    .dataframe tbody tr th {\n",
       "        vertical-align: top;\n",
       "    }\n",
       "\n",
       "    .dataframe thead th {\n",
       "        text-align: right;\n",
       "    }\n",
       "</style>\n",
       "<table border=\"1\" class=\"dataframe\">\n",
       "  <thead>\n",
       "    <tr style=\"text-align: right;\">\n",
       "      <th></th>\n",
       "      <th>name</th>\n",
       "      <th>singer</th>\n",
       "      <th>singer_id</th>\n",
       "      <th>duration</th>\n",
       "      <th>link</th>\n",
       "      <th>language</th>\n",
       "    </tr>\n",
       "  </thead>\n",
       "  <tbody>\n",
       "    <tr>\n",
       "      <th>0</th>\n",
       "      <td>Dil - E - Nadan Tujhe</td>\n",
       "      <td>Chitra Singh|Jagjit Singh</td>\n",
       "      <td>/artist/chitra-singh|/artist/jagjeet-singh-1</td>\n",
       "      <td>05:00</td>\n",
       "      <td>/dil-e-nadan-tujhe-3</td>\n",
       "      <td>Urdu</td>\n",
       "    </tr>\n",
       "    <tr>\n",
       "      <th>1</th>\n",
       "      <td>Agar Hum Kahen Aur Woh Muskara De</td>\n",
       "      <td>Chitra Singh|Jagjit Singh</td>\n",
       "      <td>/artist/chitra-singh|/artist/jagjeet-singh-1</td>\n",
       "      <td>06:26</td>\n",
       "      <td>/agar-hum-kahen-aur-woh-muskura-den</td>\n",
       "      <td>Urdu</td>\n",
       "    </tr>\n",
       "    <tr>\n",
       "      <th>2</th>\n",
       "      <td>Unke Dekhe Se</td>\n",
       "      <td>Jagjit Singh</td>\n",
       "      <td>/artist/jagjeet-singh-1</td>\n",
       "      <td>03:41</td>\n",
       "      <td>/unke-dekhe-se</td>\n",
       "      <td>Urdu</td>\n",
       "    </tr>\n",
       "    <tr>\n",
       "      <th>3</th>\n",
       "      <td>Yeh Na Thi Hamari Qismat - Chitra Singh</td>\n",
       "      <td>Chitra Singh</td>\n",
       "      <td>/artist/chitra-singh</td>\n",
       "      <td>04:26</td>\n",
       "      <td>/yeh-na-thi-hamari-qismat-2</td>\n",
       "      <td>Urdu</td>\n",
       "    </tr>\n",
       "    <tr>\n",
       "      <th>4</th>\n",
       "      <td>Hazaron Khwahishen Aisi</td>\n",
       "      <td>Jagjit Singh</td>\n",
       "      <td>/artist/jagjeet-singh-1</td>\n",
       "      <td>05:39</td>\n",
       "      <td>/hazaron-khwahishen-aisi-1</td>\n",
       "      <td>Urdu</td>\n",
       "    </tr>\n",
       "    <tr>\n",
       "      <th>...</th>\n",
       "      <td>...</td>\n",
       "      <td>...</td>\n",
       "      <td>...</td>\n",
       "      <td>...</td>\n",
       "      <td>...</td>\n",
       "      <td>...</td>\n",
       "    </tr>\n",
       "    <tr>\n",
       "      <th>41350</th>\n",
       "      <td>Chaaridike Paaper Andhar (Manush Janam Diye Bi...</td>\n",
       "      <td>Kishore Kumar</td>\n",
       "      <td>/artist/kishore-kumar</td>\n",
       "      <td>03:23</td>\n",
       "      <td>/chaaridike-paaper-andhar-manush-janam-diye-bidhi</td>\n",
       "      <td>Bengali</td>\n",
       "    </tr>\n",
       "    <tr>\n",
       "      <th>41351</th>\n",
       "      <td>Ei Ki Go Shesh Daan</td>\n",
       "      <td>Feroza Begum</td>\n",
       "      <td>/artist/feroza-begum</td>\n",
       "      <td>03:56</td>\n",
       "      <td>/ei-kigo-sesh-daan</td>\n",
       "      <td>Bengali</td>\n",
       "    </tr>\n",
       "    <tr>\n",
       "      <th>41352</th>\n",
       "      <td>Ei Je Bangla</td>\n",
       "      <td>Sandhya Mukherjee|Hemant Kumar</td>\n",
       "      <td>/artist/sandhya-mukherjee|/artist/hemanta-mukh...</td>\n",
       "      <td>07:36</td>\n",
       "      <td>/ei-je-bangla</td>\n",
       "      <td>Bengali</td>\n",
       "    </tr>\n",
       "    <tr>\n",
       "      <th>41353</th>\n",
       "      <td>Jatone Hridaye Rekho</td>\n",
       "      <td>Ajoy Chakrabarty</td>\n",
       "      <td>/artist/ajoy-chakrabarty</td>\n",
       "      <td>04:29</td>\n",
       "      <td>/jatone-hridaye-rekho</td>\n",
       "      <td>Bengali</td>\n",
       "    </tr>\n",
       "    <tr>\n",
       "      <th>41354</th>\n",
       "      <td>Tomar Je Oi Haater Mala</td>\n",
       "      <td>Asha Bhosle</td>\n",
       "      <td>/artist/asha-bhosle-1</td>\n",
       "      <td>03:22</td>\n",
       "      <td>/tomar-je-oi-haater-mala</td>\n",
       "      <td>Bengali</td>\n",
       "    </tr>\n",
       "  </tbody>\n",
       "</table>\n",
       "<p>36361 rows × 6 columns</p>\n",
       "</div>"
      ],
      "text/plain": [
       "                                                    name  \\\n",
       "0                                  Dil - E - Nadan Tujhe   \n",
       "1                      Agar Hum Kahen Aur Woh Muskara De   \n",
       "2                                          Unke Dekhe Se   \n",
       "3                Yeh Na Thi Hamari Qismat - Chitra Singh   \n",
       "4                                Hazaron Khwahishen Aisi   \n",
       "...                                                  ...   \n",
       "41350  Chaaridike Paaper Andhar (Manush Janam Diye Bi...   \n",
       "41351                                Ei Ki Go Shesh Daan   \n",
       "41352                                       Ei Je Bangla   \n",
       "41353                               Jatone Hridaye Rekho   \n",
       "41354                            Tomar Je Oi Haater Mala   \n",
       "\n",
       "                               singer  \\\n",
       "0           Chitra Singh|Jagjit Singh   \n",
       "1           Chitra Singh|Jagjit Singh   \n",
       "2                        Jagjit Singh   \n",
       "3                        Chitra Singh   \n",
       "4                        Jagjit Singh   \n",
       "...                               ...   \n",
       "41350                   Kishore Kumar   \n",
       "41351                    Feroza Begum   \n",
       "41352  Sandhya Mukherjee|Hemant Kumar   \n",
       "41353                Ajoy Chakrabarty   \n",
       "41354                     Asha Bhosle   \n",
       "\n",
       "                                               singer_id duration  \\\n",
       "0           /artist/chitra-singh|/artist/jagjeet-singh-1    05:00   \n",
       "1           /artist/chitra-singh|/artist/jagjeet-singh-1    06:26   \n",
       "2                                /artist/jagjeet-singh-1    03:41   \n",
       "3                                   /artist/chitra-singh    04:26   \n",
       "4                                /artist/jagjeet-singh-1    05:39   \n",
       "...                                                  ...      ...   \n",
       "41350                              /artist/kishore-kumar    03:23   \n",
       "41351                               /artist/feroza-begum    03:56   \n",
       "41352  /artist/sandhya-mukherjee|/artist/hemanta-mukh...    07:36   \n",
       "41353                           /artist/ajoy-chakrabarty    04:29   \n",
       "41354                              /artist/asha-bhosle-1    03:22   \n",
       "\n",
       "                                                    link language  \n",
       "0                                   /dil-e-nadan-tujhe-3     Urdu  \n",
       "1                    /agar-hum-kahen-aur-woh-muskura-den     Urdu  \n",
       "2                                         /unke-dekhe-se     Urdu  \n",
       "3                            /yeh-na-thi-hamari-qismat-2     Urdu  \n",
       "4                             /hazaron-khwahishen-aisi-1     Urdu  \n",
       "...                                                  ...      ...  \n",
       "41350  /chaaridike-paaper-andhar-manush-janam-diye-bidhi  Bengali  \n",
       "41351                                 /ei-kigo-sesh-daan  Bengali  \n",
       "41352                                      /ei-je-bangla  Bengali  \n",
       "41353                              /jatone-hridaye-rekho  Bengali  \n",
       "41354                           /tomar-je-oi-haater-mala  Bengali  \n",
       "\n",
       "[36361 rows x 6 columns]"
      ]
     },
     "execution_count": 27,
     "metadata": {},
     "output_type": "execute_result"
    }
   ],
   "source": [
    "df.drop_duplicates(subset = 'link', inplace = True)\n",
    "df"
   ]
  },
  {
   "cell_type": "code",
   "execution_count": 28,
   "id": "125546de",
   "metadata": {},
   "outputs": [
    {
     "data": {
      "text/html": [
       "<div>\n",
       "<style scoped>\n",
       "    .dataframe tbody tr th:only-of-type {\n",
       "        vertical-align: middle;\n",
       "    }\n",
       "\n",
       "    .dataframe tbody tr th {\n",
       "        vertical-align: top;\n",
       "    }\n",
       "\n",
       "    .dataframe thead th {\n",
       "        text-align: right;\n",
       "    }\n",
       "</style>\n",
       "<table border=\"1\" class=\"dataframe\">\n",
       "  <thead>\n",
       "    <tr style=\"text-align: right;\">\n",
       "      <th></th>\n",
       "      <th>name</th>\n",
       "      <th>singer</th>\n",
       "      <th>singer_id</th>\n",
       "      <th>duration</th>\n",
       "      <th>link</th>\n",
       "      <th>language</th>\n",
       "    </tr>\n",
       "  </thead>\n",
       "  <tbody>\n",
       "    <tr>\n",
       "      <th>count</th>\n",
       "      <td>36361</td>\n",
       "      <td>36361</td>\n",
       "      <td>36361</td>\n",
       "      <td>36361</td>\n",
       "      <td>36361</td>\n",
       "      <td>36361</td>\n",
       "    </tr>\n",
       "    <tr>\n",
       "      <th>unique</th>\n",
       "      <td>31534</td>\n",
       "      <td>6196</td>\n",
       "      <td>6580</td>\n",
       "      <td>1309</td>\n",
       "      <td>36361</td>\n",
       "      <td>15</td>\n",
       "    </tr>\n",
       "    <tr>\n",
       "      <th>top</th>\n",
       "      <td>Padhyams</td>\n",
       "      <td>S. P. Balasubrahmanyam</td>\n",
       "      <td>/artist/s-p-balasubrahamanyam</td>\n",
       "      <td>03:02</td>\n",
       "      <td>/tomar-je-oi-haater-mala</td>\n",
       "      <td>Telugu</td>\n",
       "    </tr>\n",
       "    <tr>\n",
       "      <th>freq</th>\n",
       "      <td>20</td>\n",
       "      <td>1151</td>\n",
       "      <td>1155</td>\n",
       "      <td>417</td>\n",
       "      <td>1</td>\n",
       "      <td>4995</td>\n",
       "    </tr>\n",
       "  </tbody>\n",
       "</table>\n",
       "</div>"
      ],
      "text/plain": [
       "            name                  singer                      singer_id  \\\n",
       "count      36361                   36361                          36361   \n",
       "unique     31534                    6196                           6580   \n",
       "top     Padhyams  S. P. Balasubrahmanyam  /artist/s-p-balasubrahamanyam   \n",
       "freq          20                    1151                           1155   \n",
       "\n",
       "       duration                      link language  \n",
       "count     36361                     36361    36361  \n",
       "unique     1309                     36361       15  \n",
       "top       03:02  /tomar-je-oi-haater-mala   Telugu  \n",
       "freq        417                         1     4995  "
      ]
     },
     "execution_count": 28,
     "metadata": {},
     "output_type": "execute_result"
    }
   ],
   "source": [
    "df.describe()"
   ]
  },
  {
   "cell_type": "code",
   "execution_count": 29,
   "id": "e614e735",
   "metadata": {},
   "outputs": [
    {
     "data": {
      "text/plain": [
       "array(['Urdu', 'Gujarati', 'Tamil', 'Kannada', 'Rajasthani', 'Haryanvi',\n",
       "       'Punjabi', 'Hindi', 'Malayalam', 'Marathi', 'Telugu', 'Odia',\n",
       "       'Bhojpuri', 'Assamese', 'Bengali'], dtype=object)"
      ]
     },
     "execution_count": 29,
     "metadata": {},
     "output_type": "execute_result"
    }
   ],
   "source": [
    "df['language'].unique()"
   ]
  },
  {
   "cell_type": "markdown",
   "id": "42f64d39",
   "metadata": {},
   "source": [
    "# 2. Exploring Every Columns"
   ]
  },
  {
   "cell_type": "markdown",
   "id": "2375fd4e",
   "metadata": {},
   "source": [
    ">> ## 2.1) Exploring Names"
   ]
  },
  {
   "cell_type": "code",
   "execution_count": 30,
   "id": "3698dbe1",
   "metadata": {},
   "outputs": [
    {
     "data": {
      "text/plain": [
       "count        36361\n",
       "unique       31534\n",
       "top       Padhyams\n",
       "freq            20\n",
       "Name: name, dtype: object"
      ]
     },
     "execution_count": 30,
     "metadata": {},
     "output_type": "execute_result"
    }
   ],
   "source": [
    "df['name'].describe()"
   ]
  },
  {
   "cell_type": "markdown",
   "id": "5a5f802e",
   "metadata": {},
   "source": [
    ">>>> #### ! We removed duplicates based on name, singer, singer_id and Duration "
   ]
  },
  {
   "cell_type": "code",
   "execution_count": 31,
   "id": "77990fdf",
   "metadata": {},
   "outputs": [
    {
     "data": {
      "text/html": [
       "<div>\n",
       "<style scoped>\n",
       "    .dataframe tbody tr th:only-of-type {\n",
       "        vertical-align: middle;\n",
       "    }\n",
       "\n",
       "    .dataframe tbody tr th {\n",
       "        vertical-align: top;\n",
       "    }\n",
       "\n",
       "    .dataframe thead th {\n",
       "        text-align: right;\n",
       "    }\n",
       "</style>\n",
       "<table border=\"1\" class=\"dataframe\">\n",
       "  <thead>\n",
       "    <tr style=\"text-align: right;\">\n",
       "      <th></th>\n",
       "      <th>name</th>\n",
       "      <th>singer</th>\n",
       "      <th>singer_id</th>\n",
       "      <th>duration</th>\n",
       "      <th>link</th>\n",
       "      <th>language</th>\n",
       "    </tr>\n",
       "  </thead>\n",
       "  <tbody>\n",
       "    <tr>\n",
       "      <th>0</th>\n",
       "      <td>Dil - E - Nadan Tujhe</td>\n",
       "      <td>Chitra Singh|Jagjit Singh</td>\n",
       "      <td>/artist/chitra-singh|/artist/jagjeet-singh-1</td>\n",
       "      <td>05:00</td>\n",
       "      <td>/dil-e-nadan-tujhe-3</td>\n",
       "      <td>Urdu</td>\n",
       "    </tr>\n",
       "    <tr>\n",
       "      <th>1</th>\n",
       "      <td>Agar Hum Kahen Aur Woh Muskara De</td>\n",
       "      <td>Chitra Singh|Jagjit Singh</td>\n",
       "      <td>/artist/chitra-singh|/artist/jagjeet-singh-1</td>\n",
       "      <td>06:26</td>\n",
       "      <td>/agar-hum-kahen-aur-woh-muskura-den</td>\n",
       "      <td>Urdu</td>\n",
       "    </tr>\n",
       "    <tr>\n",
       "      <th>2</th>\n",
       "      <td>Unke Dekhe Se</td>\n",
       "      <td>Jagjit Singh</td>\n",
       "      <td>/artist/jagjeet-singh-1</td>\n",
       "      <td>03:41</td>\n",
       "      <td>/unke-dekhe-se</td>\n",
       "      <td>Urdu</td>\n",
       "    </tr>\n",
       "    <tr>\n",
       "      <th>3</th>\n",
       "      <td>Yeh Na Thi Hamari Qismat - Chitra Singh</td>\n",
       "      <td>Chitra Singh</td>\n",
       "      <td>/artist/chitra-singh</td>\n",
       "      <td>04:26</td>\n",
       "      <td>/yeh-na-thi-hamari-qismat-2</td>\n",
       "      <td>Urdu</td>\n",
       "    </tr>\n",
       "    <tr>\n",
       "      <th>4</th>\n",
       "      <td>Hazaron Khwahishen Aisi</td>\n",
       "      <td>Jagjit Singh</td>\n",
       "      <td>/artist/jagjeet-singh-1</td>\n",
       "      <td>05:39</td>\n",
       "      <td>/hazaron-khwahishen-aisi-1</td>\n",
       "      <td>Urdu</td>\n",
       "    </tr>\n",
       "    <tr>\n",
       "      <th>...</th>\n",
       "      <td>...</td>\n",
       "      <td>...</td>\n",
       "      <td>...</td>\n",
       "      <td>...</td>\n",
       "      <td>...</td>\n",
       "      <td>...</td>\n",
       "    </tr>\n",
       "    <tr>\n",
       "      <th>41349</th>\n",
       "      <td>Amar Kantho Hote Gaan Ke Nilo</td>\n",
       "      <td>Hemant Kumar</td>\n",
       "      <td>/artist/hemanta-mukherjee</td>\n",
       "      <td>02:57</td>\n",
       "      <td>/amar-kantho-hote-gaan-ke-nilo</td>\n",
       "      <td>Bengali</td>\n",
       "    </tr>\n",
       "    <tr>\n",
       "      <th>41351</th>\n",
       "      <td>Ei Ki Go Shesh Daan</td>\n",
       "      <td>Feroza Begum</td>\n",
       "      <td>/artist/feroza-begum</td>\n",
       "      <td>03:56</td>\n",
       "      <td>/ei-kigo-sesh-daan</td>\n",
       "      <td>Bengali</td>\n",
       "    </tr>\n",
       "    <tr>\n",
       "      <th>41352</th>\n",
       "      <td>Ei Je Bangla</td>\n",
       "      <td>Sandhya Mukherjee|Hemant Kumar</td>\n",
       "      <td>/artist/sandhya-mukherjee|/artist/hemanta-mukh...</td>\n",
       "      <td>07:36</td>\n",
       "      <td>/ei-je-bangla</td>\n",
       "      <td>Bengali</td>\n",
       "    </tr>\n",
       "    <tr>\n",
       "      <th>41353</th>\n",
       "      <td>Jatone Hridaye Rekho</td>\n",
       "      <td>Ajoy Chakrabarty</td>\n",
       "      <td>/artist/ajoy-chakrabarty</td>\n",
       "      <td>04:29</td>\n",
       "      <td>/jatone-hridaye-rekho</td>\n",
       "      <td>Bengali</td>\n",
       "    </tr>\n",
       "    <tr>\n",
       "      <th>41354</th>\n",
       "      <td>Tomar Je Oi Haater Mala</td>\n",
       "      <td>Asha Bhosle</td>\n",
       "      <td>/artist/asha-bhosle-1</td>\n",
       "      <td>03:22</td>\n",
       "      <td>/tomar-je-oi-haater-mala</td>\n",
       "      <td>Bengali</td>\n",
       "    </tr>\n",
       "  </tbody>\n",
       "</table>\n",
       "<p>32949 rows × 6 columns</p>\n",
       "</div>"
      ],
      "text/plain": [
       "                                          name  \\\n",
       "0                        Dil - E - Nadan Tujhe   \n",
       "1            Agar Hum Kahen Aur Woh Muskara De   \n",
       "2                                Unke Dekhe Se   \n",
       "3      Yeh Na Thi Hamari Qismat - Chitra Singh   \n",
       "4                      Hazaron Khwahishen Aisi   \n",
       "...                                        ...   \n",
       "41349            Amar Kantho Hote Gaan Ke Nilo   \n",
       "41351                      Ei Ki Go Shesh Daan   \n",
       "41352                             Ei Je Bangla   \n",
       "41353                     Jatone Hridaye Rekho   \n",
       "41354                  Tomar Je Oi Haater Mala   \n",
       "\n",
       "                               singer  \\\n",
       "0           Chitra Singh|Jagjit Singh   \n",
       "1           Chitra Singh|Jagjit Singh   \n",
       "2                        Jagjit Singh   \n",
       "3                        Chitra Singh   \n",
       "4                        Jagjit Singh   \n",
       "...                               ...   \n",
       "41349                    Hemant Kumar   \n",
       "41351                    Feroza Begum   \n",
       "41352  Sandhya Mukherjee|Hemant Kumar   \n",
       "41353                Ajoy Chakrabarty   \n",
       "41354                     Asha Bhosle   \n",
       "\n",
       "                                               singer_id duration  \\\n",
       "0           /artist/chitra-singh|/artist/jagjeet-singh-1    05:00   \n",
       "1           /artist/chitra-singh|/artist/jagjeet-singh-1    06:26   \n",
       "2                                /artist/jagjeet-singh-1    03:41   \n",
       "3                                   /artist/chitra-singh    04:26   \n",
       "4                                /artist/jagjeet-singh-1    05:39   \n",
       "...                                                  ...      ...   \n",
       "41349                          /artist/hemanta-mukherjee    02:57   \n",
       "41351                               /artist/feroza-begum    03:56   \n",
       "41352  /artist/sandhya-mukherjee|/artist/hemanta-mukh...    07:36   \n",
       "41353                           /artist/ajoy-chakrabarty    04:29   \n",
       "41354                              /artist/asha-bhosle-1    03:22   \n",
       "\n",
       "                                      link language  \n",
       "0                     /dil-e-nadan-tujhe-3     Urdu  \n",
       "1      /agar-hum-kahen-aur-woh-muskura-den     Urdu  \n",
       "2                           /unke-dekhe-se     Urdu  \n",
       "3              /yeh-na-thi-hamari-qismat-2     Urdu  \n",
       "4               /hazaron-khwahishen-aisi-1     Urdu  \n",
       "...                                    ...      ...  \n",
       "41349       /amar-kantho-hote-gaan-ke-nilo  Bengali  \n",
       "41351                   /ei-kigo-sesh-daan  Bengali  \n",
       "41352                        /ei-je-bangla  Bengali  \n",
       "41353                /jatone-hridaye-rekho  Bengali  \n",
       "41354             /tomar-je-oi-haater-mala  Bengali  \n",
       "\n",
       "[32949 rows x 6 columns]"
      ]
     },
     "execution_count": 31,
     "metadata": {},
     "output_type": "execute_result"
    }
   ],
   "source": [
    "df.drop_duplicates(subset = ['name','singer','singer_id','duration'], inplace = True)\n",
    "df"
   ]
  },
  {
   "cell_type": "code",
   "execution_count": 32,
   "id": "ea5a1f01",
   "metadata": {},
   "outputs": [
    {
     "data": {
      "text/html": [
       "<div>\n",
       "<style scoped>\n",
       "    .dataframe tbody tr th:only-of-type {\n",
       "        vertical-align: middle;\n",
       "    }\n",
       "\n",
       "    .dataframe tbody tr th {\n",
       "        vertical-align: top;\n",
       "    }\n",
       "\n",
       "    .dataframe thead th {\n",
       "        text-align: right;\n",
       "    }\n",
       "</style>\n",
       "<table border=\"1\" class=\"dataframe\">\n",
       "  <thead>\n",
       "    <tr style=\"text-align: right;\">\n",
       "      <th></th>\n",
       "      <th>name</th>\n",
       "      <th>singer</th>\n",
       "      <th>singer_id</th>\n",
       "      <th>duration</th>\n",
       "      <th>link</th>\n",
       "      <th>language</th>\n",
       "    </tr>\n",
       "  </thead>\n",
       "  <tbody>\n",
       "    <tr>\n",
       "      <th>count</th>\n",
       "      <td>32949</td>\n",
       "      <td>32949</td>\n",
       "      <td>32949</td>\n",
       "      <td>32949</td>\n",
       "      <td>32949</td>\n",
       "      <td>32949</td>\n",
       "    </tr>\n",
       "    <tr>\n",
       "      <th>unique</th>\n",
       "      <td>31534</td>\n",
       "      <td>6196</td>\n",
       "      <td>6580</td>\n",
       "      <td>1309</td>\n",
       "      <td>32949</td>\n",
       "      <td>15</td>\n",
       "    </tr>\n",
       "    <tr>\n",
       "      <th>top</th>\n",
       "      <td>Padhyams</td>\n",
       "      <td>P. Susheela</td>\n",
       "      <td>/artist/p-suseela-2</td>\n",
       "      <td>04:00</td>\n",
       "      <td>/tomar-je-oi-haater-mala</td>\n",
       "      <td>Telugu</td>\n",
       "    </tr>\n",
       "    <tr>\n",
       "      <th>freq</th>\n",
       "      <td>19</td>\n",
       "      <td>938</td>\n",
       "      <td>938</td>\n",
       "      <td>377</td>\n",
       "      <td>1</td>\n",
       "      <td>4635</td>\n",
       "    </tr>\n",
       "  </tbody>\n",
       "</table>\n",
       "</div>"
      ],
      "text/plain": [
       "            name       singer            singer_id duration  \\\n",
       "count      32949        32949                32949    32949   \n",
       "unique     31534         6196                 6580     1309   \n",
       "top     Padhyams  P. Susheela  /artist/p-suseela-2    04:00   \n",
       "freq          19          938                  938      377   \n",
       "\n",
       "                            link language  \n",
       "count                      32949    32949  \n",
       "unique                     32949       15  \n",
       "top     /tomar-je-oi-haater-mala   Telugu  \n",
       "freq                           1     4635  "
      ]
     },
     "execution_count": 32,
     "metadata": {},
     "output_type": "execute_result"
    }
   ],
   "source": [
    "df.describe()"
   ]
  },
  {
   "cell_type": "code",
   "execution_count": 35,
   "id": "95aeb614",
   "metadata": {},
   "outputs": [
    {
     "data": {
      "text/html": [
       "<div>\n",
       "<style scoped>\n",
       "    .dataframe tbody tr th:only-of-type {\n",
       "        vertical-align: middle;\n",
       "    }\n",
       "\n",
       "    .dataframe tbody tr th {\n",
       "        vertical-align: top;\n",
       "    }\n",
       "\n",
       "    .dataframe thead th {\n",
       "        text-align: right;\n",
       "    }\n",
       "</style>\n",
       "<table border=\"1\" class=\"dataframe\">\n",
       "  <thead>\n",
       "    <tr style=\"text-align: right;\">\n",
       "      <th></th>\n",
       "      <th>name</th>\n",
       "      <th>singer</th>\n",
       "      <th>singer_id</th>\n",
       "      <th>duration</th>\n",
       "      <th>link</th>\n",
       "      <th>language</th>\n",
       "    </tr>\n",
       "  </thead>\n",
       "  <tbody>\n",
       "    <tr>\n",
       "      <th>11261</th>\n",
       "      <td>A Aa E Ee Kannadada</td>\n",
       "      <td>S. Janaki|B.K. Sumitra|R.N. Jayagopal</td>\n",
       "      <td>/artist/s-janaki|/artist/bk-sumitra-2|/artist/...</td>\n",
       "      <td>03:15</td>\n",
       "      <td>/a-aa-e-ee-kannadada-1</td>\n",
       "      <td>Kannada</td>\n",
       "    </tr>\n",
       "  </tbody>\n",
       "</table>\n",
       "</div>"
      ],
      "text/plain": [
       "                      name                                 singer  \\\n",
       "11261  A Aa E Ee Kannadada  S. Janaki|B.K. Sumitra|R.N. Jayagopal   \n",
       "\n",
       "                                               singer_id duration  \\\n",
       "11261  /artist/s-janaki|/artist/bk-sumitra-2|/artist/...    03:15   \n",
       "\n",
       "                         link language  \n",
       "11261  /a-aa-e-ee-kannadada-1  Kannada  "
      ]
     },
     "execution_count": 35,
     "metadata": {},
     "output_type": "execute_result"
    }
   ],
   "source": [
    "df[df['name'] == 'A Aa E Ee Kannadada']"
   ]
  },
  {
   "cell_type": "code",
   "execution_count": 36,
   "id": "137078e1",
   "metadata": {},
   "outputs": [
    {
     "data": {
      "text/plain": [
       "name\n",
       "Padhyams                         19\n",
       "Ahe Ramahari                     12\n",
       "Tuma Gaan Mahu Machhi            11\n",
       "Music                            10\n",
       "Film Story                        8\n",
       "                                 ..\n",
       "Socha Nahin Achha Bura            1\n",
       "Hazaron Khwahishen Aesi           1\n",
       "Raat Bhi Neend Bhi Kahani Bhi     1\n",
       "Ya Mujhe Afsare Sahi              1\n",
       "Kabse Hoon Kya Bataon             1\n",
       "Name: count, Length: 31534, dtype: int64"
      ]
     },
     "execution_count": 36,
     "metadata": {},
     "output_type": "execute_result"
    }
   ],
   "source": [
    "df['name'].value_counts()"
   ]
  },
  {
   "cell_type": "markdown",
   "id": "a0e75b39",
   "metadata": {},
   "source": [
    ">> ## 2.2) Singer"
   ]
  },
  {
   "cell_type": "code",
   "execution_count": 37,
   "id": "33753984",
   "metadata": {},
   "outputs": [
    {
     "data": {
      "text/plain": [
       "singer\n",
       "P. Susheela                                  938\n",
       "S. P. Balasubrahmanyam                       931\n",
       "Asha Bhosle                                  880\n",
       "Lata Mangeshkar                              725\n",
       "S. Janaki                                    616\n",
       "                                            ... \n",
       "Calcutta Youth Choir                           1\n",
       "Nirmalendu Choudhury                           1\n",
       "Bishnupada Das                                 1\n",
       "Madhuri Chatterjee                             1\n",
       "P. Susheela|S. P. Balasubrahmanyam|Chorus      1\n",
       "Name: count, Length: 6196, dtype: int64"
      ]
     },
     "execution_count": 37,
     "metadata": {},
     "output_type": "execute_result"
    }
   ],
   "source": [
    "df['singer'].value_counts()"
   ]
  },
  {
   "cell_type": "code",
   "execution_count": 38,
   "id": "7b23284a",
   "metadata": {},
   "outputs": [
    {
     "data": {
      "text/plain": [
       "singer_id\n",
       "/artist/p-suseela-2                      938\n",
       "/artist/s-p-balasubrahamanyam            935\n",
       "/artist/asha-bhosle-1                    880\n",
       "/artist/lata-mangeshkar                  725\n",
       "/artist/s-janaki                         616\n",
       "                                        ... \n",
       "/artist/calcutta-youth-choir               1\n",
       "/artist/nirmalendu-choudhury               1\n",
       "/artist/bishnupada-das                     1\n",
       "/artist/madhuri-chatterjee                 1\n",
       "/artist/vijay-yesudas|/artist/mahathi      1\n",
       "Name: count, Length: 6580, dtype: int64"
      ]
     },
     "execution_count": 38,
     "metadata": {},
     "output_type": "execute_result"
    }
   ],
   "source": [
    "df['singer_id'].value_counts()"
   ]
  },
  {
   "cell_type": "code",
   "execution_count": 39,
   "id": "227dbefa",
   "metadata": {},
   "outputs": [
    {
     "data": {
      "text/plain": [
       "duration\n",
       "04:00    377\n",
       "03:02    365\n",
       "05:00    348\n",
       "03:21    329\n",
       "03:23    307\n",
       "        ... \n",
       "35:44      1\n",
       "26:09      1\n",
       "41:01      1\n",
       "23:31      1\n",
       "35:48      1\n",
       "Name: count, Length: 1309, dtype: int64"
      ]
     },
     "execution_count": 39,
     "metadata": {},
     "output_type": "execute_result"
    }
   ],
   "source": [
    "df['duration'].value_counts()"
   ]
  },
  {
   "cell_type": "code",
   "execution_count": 40,
   "id": "b070de75",
   "metadata": {},
   "outputs": [
    {
     "data": {
      "text/plain": [
       "link\n",
       "/tomar-je-oi-haater-mala               1\n",
       "/dil-e-nadan-tujhe-3                   1\n",
       "/agar-hum-kahen-aur-woh-muskura-den    1\n",
       "/unke-dekhe-se                         1\n",
       "/yeh-na-thi-hamari-qismat-2            1\n",
       "                                      ..\n",
       "/naksh-rariyaaadi-hai-kiski            1\n",
       "/punjabi-tappe-live                    1\n",
       "/naina-tose-lage                       1\n",
       "/ibteda                                1\n",
       "/sunte-hai-ki-mil-jaati-hai-live       1\n",
       "Name: count, Length: 32949, dtype: int64"
      ]
     },
     "execution_count": 40,
     "metadata": {},
     "output_type": "execute_result"
    }
   ],
   "source": [
    "df['link'].value_counts()"
   ]
  },
  {
   "cell_type": "code",
   "execution_count": 41,
   "id": "380568aa",
   "metadata": {},
   "outputs": [
    {
     "name": "stderr",
     "output_type": "stream",
     "text": [
      "Matplotlib is building the font cache; this may take a moment.\n"
     ]
    },
    {
     "data": {
      "text/plain": [
       "<Axes: xlabel='language'>"
      ]
     },
     "execution_count": 41,
     "metadata": {},
     "output_type": "execute_result"
    },
    {
     "data": {
      "image/png": "[encoded data removed]",
      "text/plain": [
       "<Figure size 640x480 with 1 Axes>"
      ]
     },
     "metadata": {},
     "output_type": "display_data"
    }
   ],
   "source": [
    "df['language'].value_counts().sort_values(ascending = True).plot(kind = 'bar')"
   ]
  },
  {
   "cell_type": "markdown",
   "id": "75dc77fc",
   "metadata": {},
   "source": [
    "# 3. Data Cleaning"
   ]
  },
  {
   "cell_type": "markdown",
   "id": "5b7315c5",
   "metadata": {},
   "source": [
    ">> ## 3.1) Cleaning Duration"
   ]
  },
  {
   "cell_type": "code",
   "execution_count": 42,
   "id": "f4dbfa6b",
   "metadata": {},
   "outputs": [
    {
     "name": "stdout",
     "output_type": "stream",
     "text": [
      "05:00 300\n",
      "06:26 386\n",
      "03:41 221\n",
      "04:26 266\n",
      "05:39 339\n",
      "07:59 479\n",
      "04:48 288\n",
      "05:21 321\n",
      "03:09 189\n",
      "04:24 264\n"
     ]
    }
   ],
   "source": [
    "for i in df['duration'][:10]:\n",
    "    print(i, int(i.split(':')[0])*60 + int(i.split(':')[1]))"
   ]
  },
  {
   "cell_type": "code",
   "execution_count": 44,
   "id": "fbc700a0",
   "metadata": {},
   "outputs": [
    {
     "data": {
      "text/html": [
       "<div>\n",
       "<style scoped>\n",
       "    .dataframe tbody tr th:only-of-type {\n",
       "        vertical-align: middle;\n",
       "    }\n",
       "\n",
       "    .dataframe tbody tr th {\n",
       "        vertical-align: top;\n",
       "    }\n",
       "\n",
       "    .dataframe thead th {\n",
       "        text-align: right;\n",
       "    }\n",
       "</style>\n",
       "<table border=\"1\" class=\"dataframe\">\n",
       "  <thead>\n",
       "    <tr style=\"text-align: right;\">\n",
       "      <th></th>\n",
       "      <th>name</th>\n",
       "      <th>singer</th>\n",
       "      <th>singer_id</th>\n",
       "      <th>duration</th>\n",
       "      <th>link</th>\n",
       "      <th>language</th>\n",
       "      <th>duration_in_sec</th>\n",
       "    </tr>\n",
       "  </thead>\n",
       "  <tbody>\n",
       "    <tr>\n",
       "      <th>0</th>\n",
       "      <td>Dil - E - Nadan Tujhe</td>\n",
       "      <td>Chitra Singh|Jagjit Singh</td>\n",
       "      <td>/artist/chitra-singh|/artist/jagjeet-singh-1</td>\n",
       "      <td>05:00</td>\n",
       "      <td>/dil-e-nadan-tujhe-3</td>\n",
       "      <td>Urdu</td>\n",
       "      <td>300</td>\n",
       "    </tr>\n",
       "    <tr>\n",
       "      <th>1</th>\n",
       "      <td>Agar Hum Kahen Aur Woh Muskara De</td>\n",
       "      <td>Chitra Singh|Jagjit Singh</td>\n",
       "      <td>/artist/chitra-singh|/artist/jagjeet-singh-1</td>\n",
       "      <td>06:26</td>\n",
       "      <td>/agar-hum-kahen-aur-woh-muskura-den</td>\n",
       "      <td>Urdu</td>\n",
       "      <td>386</td>\n",
       "    </tr>\n",
       "    <tr>\n",
       "      <th>2</th>\n",
       "      <td>Unke Dekhe Se</td>\n",
       "      <td>Jagjit Singh</td>\n",
       "      <td>/artist/jagjeet-singh-1</td>\n",
       "      <td>03:41</td>\n",
       "      <td>/unke-dekhe-se</td>\n",
       "      <td>Urdu</td>\n",
       "      <td>221</td>\n",
       "    </tr>\n",
       "    <tr>\n",
       "      <th>3</th>\n",
       "      <td>Yeh Na Thi Hamari Qismat - Chitra Singh</td>\n",
       "      <td>Chitra Singh</td>\n",
       "      <td>/artist/chitra-singh</td>\n",
       "      <td>04:26</td>\n",
       "      <td>/yeh-na-thi-hamari-qismat-2</td>\n",
       "      <td>Urdu</td>\n",
       "      <td>266</td>\n",
       "    </tr>\n",
       "    <tr>\n",
       "      <th>4</th>\n",
       "      <td>Hazaron Khwahishen Aisi</td>\n",
       "      <td>Jagjit Singh</td>\n",
       "      <td>/artist/jagjeet-singh-1</td>\n",
       "      <td>05:39</td>\n",
       "      <td>/hazaron-khwahishen-aisi-1</td>\n",
       "      <td>Urdu</td>\n",
       "      <td>339</td>\n",
       "    </tr>\n",
       "    <tr>\n",
       "      <th>...</th>\n",
       "      <td>...</td>\n",
       "      <td>...</td>\n",
       "      <td>...</td>\n",
       "      <td>...</td>\n",
       "      <td>...</td>\n",
       "      <td>...</td>\n",
       "      <td>...</td>\n",
       "    </tr>\n",
       "    <tr>\n",
       "      <th>41349</th>\n",
       "      <td>Amar Kantho Hote Gaan Ke Nilo</td>\n",
       "      <td>Hemant Kumar</td>\n",
       "      <td>/artist/hemanta-mukherjee</td>\n",
       "      <td>02:57</td>\n",
       "      <td>/amar-kantho-hote-gaan-ke-nilo</td>\n",
       "      <td>Bengali</td>\n",
       "      <td>177</td>\n",
       "    </tr>\n",
       "    <tr>\n",
       "      <th>41351</th>\n",
       "      <td>Ei Ki Go Shesh Daan</td>\n",
       "      <td>Feroza Begum</td>\n",
       "      <td>/artist/feroza-begum</td>\n",
       "      <td>03:56</td>\n",
       "      <td>/ei-kigo-sesh-daan</td>\n",
       "      <td>Bengali</td>\n",
       "      <td>236</td>\n",
       "    </tr>\n",
       "    <tr>\n",
       "      <th>41352</th>\n",
       "      <td>Ei Je Bangla</td>\n",
       "      <td>Sandhya Mukherjee|Hemant Kumar</td>\n",
       "      <td>/artist/sandhya-mukherjee|/artist/hemanta-mukh...</td>\n",
       "      <td>07:36</td>\n",
       "      <td>/ei-je-bangla</td>\n",
       "      <td>Bengali</td>\n",
       "      <td>456</td>\n",
       "    </tr>\n",
       "    <tr>\n",
       "      <th>41353</th>\n",
       "      <td>Jatone Hridaye Rekho</td>\n",
       "      <td>Ajoy Chakrabarty</td>\n",
       "      <td>/artist/ajoy-chakrabarty</td>\n",
       "      <td>04:29</td>\n",
       "      <td>/jatone-hridaye-rekho</td>\n",
       "      <td>Bengali</td>\n",
       "      <td>269</td>\n",
       "    </tr>\n",
       "    <tr>\n",
       "      <th>41354</th>\n",
       "      <td>Tomar Je Oi Haater Mala</td>\n",
       "      <td>Asha Bhosle</td>\n",
       "      <td>/artist/asha-bhosle-1</td>\n",
       "      <td>03:22</td>\n",
       "      <td>/tomar-je-oi-haater-mala</td>\n",
       "      <td>Bengali</td>\n",
       "      <td>202</td>\n",
       "    </tr>\n",
       "  </tbody>\n",
       "</table>\n",
       "<p>32949 rows × 7 columns</p>\n",
       "</div>"
      ],
      "text/plain": [
       "                                          name  \\\n",
       "0                        Dil - E - Nadan Tujhe   \n",
       "1            Agar Hum Kahen Aur Woh Muskara De   \n",
       "2                                Unke Dekhe Se   \n",
       "3      Yeh Na Thi Hamari Qismat - Chitra Singh   \n",
       "4                      Hazaron Khwahishen Aisi   \n",
       "...                                        ...   \n",
       "41349            Amar Kantho Hote Gaan Ke Nilo   \n",
       "41351                      Ei Ki Go Shesh Daan   \n",
       "41352                             Ei Je Bangla   \n",
       "41353                     Jatone Hridaye Rekho   \n",
       "41354                  Tomar Je Oi Haater Mala   \n",
       "\n",
       "                               singer  \\\n",
       "0           Chitra Singh|Jagjit Singh   \n",
       "1           Chitra Singh|Jagjit Singh   \n",
       "2                        Jagjit Singh   \n",
       "3                        Chitra Singh   \n",
       "4                        Jagjit Singh   \n",
       "...                               ...   \n",
       "41349                    Hemant Kumar   \n",
       "41351                    Feroza Begum   \n",
       "41352  Sandhya Mukherjee|Hemant Kumar   \n",
       "41353                Ajoy Chakrabarty   \n",
       "41354                     Asha Bhosle   \n",
       "\n",
       "                                               singer_id duration  \\\n",
       "0           /artist/chitra-singh|/artist/jagjeet-singh-1    05:00   \n",
       "1           /artist/chitra-singh|/artist/jagjeet-singh-1    06:26   \n",
       "2                                /artist/jagjeet-singh-1    03:41   \n",
       "3                                   /artist/chitra-singh    04:26   \n",
       "4                                /artist/jagjeet-singh-1    05:39   \n",
       "...                                                  ...      ...   \n",
       "41349                          /artist/hemanta-mukherjee    02:57   \n",
       "41351                               /artist/feroza-begum    03:56   \n",
       "41352  /artist/sandhya-mukherjee|/artist/hemanta-mukh...    07:36   \n",
       "41353                           /artist/ajoy-chakrabarty    04:29   \n",
       "41354                              /artist/asha-bhosle-1    03:22   \n",
       "\n",
       "                                      link language  duration_in_sec  \n",
       "0                     /dil-e-nadan-tujhe-3     Urdu              300  \n",
       "1      /agar-hum-kahen-aur-woh-muskura-den     Urdu              386  \n",
       "2                           /unke-dekhe-se     Urdu              221  \n",
       "3              /yeh-na-thi-hamari-qismat-2     Urdu              266  \n",
       "4               /hazaron-khwahishen-aisi-1     Urdu              339  \n",
       "...                                    ...      ...              ...  \n",
       "41349       /amar-kantho-hote-gaan-ke-nilo  Bengali              177  \n",
       "41351                   /ei-kigo-sesh-daan  Bengali              236  \n",
       "41352                        /ei-je-bangla  Bengali              456  \n",
       "41353                /jatone-hridaye-rekho  Bengali              269  \n",
       "41354             /tomar-je-oi-haater-mala  Bengali              202  \n",
       "\n",
       "[32949 rows x 7 columns]"
      ]
     },
     "execution_count": 44,
     "metadata": {},
     "output_type": "execute_result"
    }
   ],
   "source": [
    "duration = []\n",
    "\n",
    "for i in df['duration']:\n",
    "    min = int(i.split(':')[0])\n",
    "    sec = int(i.split(':')[1])\n",
    "    duration.append(min*60 + sec)\n",
    "\n",
    "\n",
    "df['duration_in_sec'] = duration\n",
    "df"
   ]
  },
  {
   "cell_type": "code",
   "execution_count": 45,
   "id": "d4fdaebe",
   "metadata": {},
   "outputs": [
    {
     "data": {
      "text/plain": [
       "818      3595\n",
       "14098    3588\n",
       "13282    3587\n",
       "39216    3581\n",
       "30833    3566\n",
       "         ... \n",
       "9480       19\n",
       "6500       18\n",
       "36778      18\n",
       "22952      17\n",
       "35561      17\n",
       "Name: duration_in_sec, Length: 32949, dtype: int64"
      ]
     },
     "execution_count": 45,
     "metadata": {},
     "output_type": "execute_result"
    }
   ],
   "source": [
    "df['duration_in_sec'].sort_values(ascending = False)"
   ]
  },
  {
   "cell_type": "code",
   "execution_count": 46,
   "id": "6e473eca",
   "metadata": {},
   "outputs": [
    {
     "name": "stdout",
     "output_type": "stream",
     "text": [
      "01:00:21\n",
      "01:00:09\n",
      "01:00:08\n",
      "01:09:52\n",
      "01:15:45\n",
      "01:05:53\n",
      "01:08:04\n",
      "01:00:39\n",
      "05:43:00\n",
      "06:03:00\n",
      "01:00:45\n",
      "05:48:00\n",
      "05:17:00\n",
      "04:20:00\n",
      "06:52:00\n",
      "06:04:00\n",
      "05:25:00\n",
      "05:05:00\n",
      "06:02:00\n",
      "01:16:00\n",
      "05:16:00\n",
      "05:33:00\n",
      "05:00:00\n",
      "01:23:22\n",
      "05:00:00\n",
      "07:08:00\n",
      "01:02:27\n",
      "01:01:08\n",
      "01:04:36\n",
      "01:00:05\n",
      "01:07:13\n",
      "02:01:49\n",
      "02:04:37\n",
      "02:22:18\n",
      "01:09:22\n",
      "01:06:19\n",
      "02:17:29\n",
      "02:26:54\n",
      "01:04:35\n",
      "01:49:40\n",
      "02:37:42\n",
      "02:05:46\n",
      "02:13:06\n",
      "02:20:03\n",
      "01:07:12\n",
      "01:54:41\n",
      "02:27:29\n",
      "02:04:16\n",
      "02:20:24\n",
      "01:02:51\n",
      "02:53:29\n",
      "01:06:19\n",
      "01:52:12\n",
      "01:07:38\n",
      "01:05:27\n",
      "01:10:41\n",
      "01:01:05\n",
      "02:25:50\n",
      "01:01:00\n"
     ]
    }
   ],
   "source": [
    "duration = []\n",
    "\n",
    "for i in df['duration']:\n",
    "    if len(i.split(':')) == 3:\n",
    "        print(i)"
   ]
  },
  {
   "cell_type": "code",
   "execution_count": 48,
   "id": "b3485139",
   "metadata": {},
   "outputs": [
    {
     "data": {
      "text/html": [
       "<div>\n",
       "<style scoped>\n",
       "    .dataframe tbody tr th:only-of-type {\n",
       "        vertical-align: middle;\n",
       "    }\n",
       "\n",
       "    .dataframe tbody tr th {\n",
       "        vertical-align: top;\n",
       "    }\n",
       "\n",
       "    .dataframe thead th {\n",
       "        text-align: right;\n",
       "    }\n",
       "</style>\n",
       "<table border=\"1\" class=\"dataframe\">\n",
       "  <thead>\n",
       "    <tr style=\"text-align: right;\">\n",
       "      <th></th>\n",
       "      <th>name</th>\n",
       "      <th>singer</th>\n",
       "      <th>singer_id</th>\n",
       "      <th>duration</th>\n",
       "      <th>link</th>\n",
       "      <th>language</th>\n",
       "      <th>duration_in_sec</th>\n",
       "    </tr>\n",
       "  </thead>\n",
       "  <tbody>\n",
       "    <tr>\n",
       "      <th>0</th>\n",
       "      <td>Dil - E - Nadan Tujhe</td>\n",
       "      <td>Chitra Singh|Jagjit Singh</td>\n",
       "      <td>/artist/chitra-singh|/artist/jagjeet-singh-1</td>\n",
       "      <td>05:00</td>\n",
       "      <td>/dil-e-nadan-tujhe-3</td>\n",
       "      <td>Urdu</td>\n",
       "      <td>300</td>\n",
       "    </tr>\n",
       "    <tr>\n",
       "      <th>1</th>\n",
       "      <td>Agar Hum Kahen Aur Woh Muskara De</td>\n",
       "      <td>Chitra Singh|Jagjit Singh</td>\n",
       "      <td>/artist/chitra-singh|/artist/jagjeet-singh-1</td>\n",
       "      <td>06:26</td>\n",
       "      <td>/agar-hum-kahen-aur-woh-muskura-den</td>\n",
       "      <td>Urdu</td>\n",
       "      <td>386</td>\n",
       "    </tr>\n",
       "    <tr>\n",
       "      <th>2</th>\n",
       "      <td>Unke Dekhe Se</td>\n",
       "      <td>Jagjit Singh</td>\n",
       "      <td>/artist/jagjeet-singh-1</td>\n",
       "      <td>03:41</td>\n",
       "      <td>/unke-dekhe-se</td>\n",
       "      <td>Urdu</td>\n",
       "      <td>221</td>\n",
       "    </tr>\n",
       "    <tr>\n",
       "      <th>3</th>\n",
       "      <td>Yeh Na Thi Hamari Qismat - Chitra Singh</td>\n",
       "      <td>Chitra Singh</td>\n",
       "      <td>/artist/chitra-singh</td>\n",
       "      <td>04:26</td>\n",
       "      <td>/yeh-na-thi-hamari-qismat-2</td>\n",
       "      <td>Urdu</td>\n",
       "      <td>266</td>\n",
       "    </tr>\n",
       "    <tr>\n",
       "      <th>4</th>\n",
       "      <td>Hazaron Khwahishen Aisi</td>\n",
       "      <td>Jagjit Singh</td>\n",
       "      <td>/artist/jagjeet-singh-1</td>\n",
       "      <td>05:39</td>\n",
       "      <td>/hazaron-khwahishen-aisi-1</td>\n",
       "      <td>Urdu</td>\n",
       "      <td>339</td>\n",
       "    </tr>\n",
       "    <tr>\n",
       "      <th>...</th>\n",
       "      <td>...</td>\n",
       "      <td>...</td>\n",
       "      <td>...</td>\n",
       "      <td>...</td>\n",
       "      <td>...</td>\n",
       "      <td>...</td>\n",
       "      <td>...</td>\n",
       "    </tr>\n",
       "    <tr>\n",
       "      <th>41349</th>\n",
       "      <td>Amar Kantho Hote Gaan Ke Nilo</td>\n",
       "      <td>Hemant Kumar</td>\n",
       "      <td>/artist/hemanta-mukherjee</td>\n",
       "      <td>02:57</td>\n",
       "      <td>/amar-kantho-hote-gaan-ke-nilo</td>\n",
       "      <td>Bengali</td>\n",
       "      <td>177</td>\n",
       "    </tr>\n",
       "    <tr>\n",
       "      <th>41351</th>\n",
       "      <td>Ei Ki Go Shesh Daan</td>\n",
       "      <td>Feroza Begum</td>\n",
       "      <td>/artist/feroza-begum</td>\n",
       "      <td>03:56</td>\n",
       "      <td>/ei-kigo-sesh-daan</td>\n",
       "      <td>Bengali</td>\n",
       "      <td>236</td>\n",
       "    </tr>\n",
       "    <tr>\n",
       "      <th>41352</th>\n",
       "      <td>Ei Je Bangla</td>\n",
       "      <td>Sandhya Mukherjee|Hemant Kumar</td>\n",
       "      <td>/artist/sandhya-mukherjee|/artist/hemanta-mukh...</td>\n",
       "      <td>07:36</td>\n",
       "      <td>/ei-je-bangla</td>\n",
       "      <td>Bengali</td>\n",
       "      <td>456</td>\n",
       "    </tr>\n",
       "    <tr>\n",
       "      <th>41353</th>\n",
       "      <td>Jatone Hridaye Rekho</td>\n",
       "      <td>Ajoy Chakrabarty</td>\n",
       "      <td>/artist/ajoy-chakrabarty</td>\n",
       "      <td>04:29</td>\n",
       "      <td>/jatone-hridaye-rekho</td>\n",
       "      <td>Bengali</td>\n",
       "      <td>269</td>\n",
       "    </tr>\n",
       "    <tr>\n",
       "      <th>41354</th>\n",
       "      <td>Tomar Je Oi Haater Mala</td>\n",
       "      <td>Asha Bhosle</td>\n",
       "      <td>/artist/asha-bhosle-1</td>\n",
       "      <td>03:22</td>\n",
       "      <td>/tomar-je-oi-haater-mala</td>\n",
       "      <td>Bengali</td>\n",
       "      <td>202</td>\n",
       "    </tr>\n",
       "  </tbody>\n",
       "</table>\n",
       "<p>32949 rows × 7 columns</p>\n",
       "</div>"
      ],
      "text/plain": [
       "                                          name  \\\n",
       "0                        Dil - E - Nadan Tujhe   \n",
       "1            Agar Hum Kahen Aur Woh Muskara De   \n",
       "2                                Unke Dekhe Se   \n",
       "3      Yeh Na Thi Hamari Qismat - Chitra Singh   \n",
       "4                      Hazaron Khwahishen Aisi   \n",
       "...                                        ...   \n",
       "41349            Amar Kantho Hote Gaan Ke Nilo   \n",
       "41351                      Ei Ki Go Shesh Daan   \n",
       "41352                             Ei Je Bangla   \n",
       "41353                     Jatone Hridaye Rekho   \n",
       "41354                  Tomar Je Oi Haater Mala   \n",
       "\n",
       "                               singer  \\\n",
       "0           Chitra Singh|Jagjit Singh   \n",
       "1           Chitra Singh|Jagjit Singh   \n",
       "2                        Jagjit Singh   \n",
       "3                        Chitra Singh   \n",
       "4                        Jagjit Singh   \n",
       "...                               ...   \n",
       "41349                    Hemant Kumar   \n",
       "41351                    Feroza Begum   \n",
       "41352  Sandhya Mukherjee|Hemant Kumar   \n",
       "41353                Ajoy Chakrabarty   \n",
       "41354                     Asha Bhosle   \n",
       "\n",
       "                                               singer_id duration  \\\n",
       "0           /artist/chitra-singh|/artist/jagjeet-singh-1    05:00   \n",
       "1           /artist/chitra-singh|/artist/jagjeet-singh-1    06:26   \n",
       "2                                /artist/jagjeet-singh-1    03:41   \n",
       "3                                   /artist/chitra-singh    04:26   \n",
       "4                                /artist/jagjeet-singh-1    05:39   \n",
       "...                                                  ...      ...   \n",
       "41349                          /artist/hemanta-mukherjee    02:57   \n",
       "41351                               /artist/feroza-begum    03:56   \n",
       "41352  /artist/sandhya-mukherjee|/artist/hemanta-mukh...    07:36   \n",
       "41353                           /artist/ajoy-chakrabarty    04:29   \n",
       "41354                              /artist/asha-bhosle-1    03:22   \n",
       "\n",
       "                                      link language  duration_in_sec  \n",
       "0                     /dil-e-nadan-tujhe-3     Urdu              300  \n",
       "1      /agar-hum-kahen-aur-woh-muskura-den     Urdu              386  \n",
       "2                           /unke-dekhe-se     Urdu              221  \n",
       "3              /yeh-na-thi-hamari-qismat-2     Urdu              266  \n",
       "4               /hazaron-khwahishen-aisi-1     Urdu              339  \n",
       "...                                    ...      ...              ...  \n",
       "41349       /amar-kantho-hote-gaan-ke-nilo  Bengali              177  \n",
       "41351                   /ei-kigo-sesh-daan  Bengali              236  \n",
       "41352                        /ei-je-bangla  Bengali              456  \n",
       "41353                /jatone-hridaye-rekho  Bengali              269  \n",
       "41354             /tomar-je-oi-haater-mala  Bengali              202  \n",
       "\n",
       "[32949 rows x 7 columns]"
      ]
     },
     "execution_count": 48,
     "metadata": {},
     "output_type": "execute_result"
    }
   ],
   "source": [
    "duration = []\n",
    "\n",
    "for i in df['duration']:\n",
    "    if len(i.split(':')) == 2:\n",
    "        mins = int(i.split(':')[0])\n",
    "        secs = int(i.split(':')[1])\n",
    "        duration.append(mins*60 + secs)\n",
    "    \n",
    "    elif len(i.split(':')) == 3:\n",
    "        hrs = int(i.split(':')[0])\n",
    "        mins = int(i.split(':')[1])\n",
    "        secs = int(i.split(':')[2])\n",
    "        duration.append(hrs * 60 * 60 + min * 60 + secs)\n",
    "\n",
    "df['duration_in_sec'] = duration\n",
    "df"
   ]
  },
  {
   "cell_type": "code",
   "execution_count": 49,
   "id": "09cf5bd4",
   "metadata": {},
   "outputs": [
    {
     "data": {
      "text/plain": [
       "16093    25380\n",
       "15259    21780\n",
       "14624    21780\n",
       "15000    21780\n",
       "15025    21780\n",
       "         ...  \n",
       "9480        19\n",
       "6500        18\n",
       "36778       18\n",
       "22952       17\n",
       "35561       17\n",
       "Name: duration_in_sec, Length: 32949, dtype: int64"
      ]
     },
     "execution_count": 49,
     "metadata": {},
     "output_type": "execute_result"
    }
   ],
   "source": [
    "df['duration_in_sec'].sort_values(ascending = False)"
   ]
  },
  {
   "cell_type": "markdown",
   "id": "5b9ccb0f",
   "metadata": {},
   "source": [
    "# 4. Data Analysis"
   ]
  },
  {
   "cell_type": "markdown",
   "id": "32bd5dd6",
   "metadata": {},
   "source": [
    "KPI\n",
    "\n",
    "* Overall Analysis\n",
    "\n",
    "  1. Total Songs\n",
    "  2. Total Singers\n",
    "  3. Languages\n",
    "  4. Total Songs Played\n",
    "  5. Play in Hours | 100 Million Hours + Streamed\n",
    "  6. Genre\n",
    "\n",
    "* Yearly Analysis\n",
    "  1. Top Song of the Year\n",
    "  2. Weekly Top Songs\n",
    "\n",
    "-- Monthly Analysis\n",
    "\n",
    "\n",
    "-- Daily Analysis"
   ]
  },
  {
   "cell_type": "markdown",
   "id": "658acec6",
   "metadata": {},
   "source": [
    "> ## 4.1) Total Number of Unque Songs"
   ]
  },
  {
   "cell_type": "code",
   "execution_count": 52,
   "id": "d077d215",
   "metadata": {},
   "outputs": [
    {
     "name": "stdout",
     "output_type": "stream",
     "text": [
      "Total Number of Songs :  31534\n"
     ]
    }
   ],
   "source": [
    "total_songs = df['name'].nunique()\n",
    "print(\"Total Number of Songs : \", total_songs)"
   ]
  },
  {
   "cell_type": "code",
   "execution_count": 53,
   "id": "ffe0ec0d",
   "metadata": {},
   "outputs": [
    {
     "data": {
      "text/plain": [
       "32949"
      ]
     },
     "execution_count": 53,
     "metadata": {},
     "output_type": "execute_result"
    }
   ],
   "source": [
    "df['link'].nunique()"
   ]
  },
  {
   "cell_type": "markdown",
   "id": "f63ef771",
   "metadata": {},
   "source": [
    "> ## 4.2) Total Unique Languages"
   ]
  },
  {
   "cell_type": "code",
   "execution_count": 58,
   "id": "0dc9c113",
   "metadata": {},
   "outputs": [
    {
     "data": {
      "text/plain": [
       "15"
      ]
     },
     "execution_count": 58,
     "metadata": {},
     "output_type": "execute_result"
    }
   ],
   "source": [
    "df['language'].nunique()\n"
   ]
  },
  {
   "cell_type": "markdown",
   "id": "116b016b",
   "metadata": {},
   "source": [
    "> ## 4.3) Total Unique Singers"
   ]
  },
  {
   "cell_type": "code",
   "execution_count": 61,
   "id": "93099cd9",
   "metadata": {},
   "outputs": [
    {
     "data": {
      "text/plain": [
       "6196"
      ]
     },
     "execution_count": 61,
     "metadata": {},
     "output_type": "execute_result"
    }
   ],
   "source": [
    "df['singer'].nunique()"
   ]
  },
  {
   "cell_type": "code",
   "execution_count": 62,
   "id": "bf205568",
   "metadata": {},
   "outputs": [
    {
     "data": {
      "text/plain": [
       "6580"
      ]
     },
     "execution_count": 62,
     "metadata": {},
     "output_type": "execute_result"
    }
   ],
   "source": [
    "df['singer_id'].nunique()"
   ]
  },
  {
   "cell_type": "code",
   "execution_count": 66,
   "id": "a45c4906",
   "metadata": {},
   "outputs": [
    {
     "data": {
      "text/html": [
       "<div>\n",
       "<style scoped>\n",
       "    .dataframe tbody tr th:only-of-type {\n",
       "        vertical-align: middle;\n",
       "    }\n",
       "\n",
       "    .dataframe tbody tr th {\n",
       "        vertical-align: top;\n",
       "    }\n",
       "\n",
       "    .dataframe thead th {\n",
       "        text-align: right;\n",
       "    }\n",
       "</style>\n",
       "<table border=\"1\" class=\"dataframe\">\n",
       "  <thead>\n",
       "    <tr style=\"text-align: right;\">\n",
       "      <th></th>\n",
       "      <th>name</th>\n",
       "      <th>singer</th>\n",
       "      <th>singer_id</th>\n",
       "      <th>duration</th>\n",
       "      <th>link</th>\n",
       "      <th>language</th>\n",
       "      <th>duration_in_sec</th>\n",
       "    </tr>\n",
       "  </thead>\n",
       "  <tbody>\n",
       "    <tr>\n",
       "      <th>0</th>\n",
       "      <td>Dil - E - Nadan Tujhe</td>\n",
       "      <td>Chitra Singh|Jagjit Singh</td>\n",
       "      <td>/artist/chitra-singh|/artist/jagjeet-singh-1</td>\n",
       "      <td>05:00</td>\n",
       "      <td>/dil-e-nadan-tujhe-3</td>\n",
       "      <td>Urdu</td>\n",
       "      <td>300</td>\n",
       "    </tr>\n",
       "    <tr>\n",
       "      <th>1</th>\n",
       "      <td>Agar Hum Kahen Aur Woh Muskara De</td>\n",
       "      <td>Chitra Singh|Jagjit Singh</td>\n",
       "      <td>/artist/chitra-singh|/artist/jagjeet-singh-1</td>\n",
       "      <td>06:26</td>\n",
       "      <td>/agar-hum-kahen-aur-woh-muskura-den</td>\n",
       "      <td>Urdu</td>\n",
       "      <td>386</td>\n",
       "    </tr>\n",
       "    <tr>\n",
       "      <th>2</th>\n",
       "      <td>Unke Dekhe Se</td>\n",
       "      <td>Jagjit Singh</td>\n",
       "      <td>/artist/jagjeet-singh-1</td>\n",
       "      <td>03:41</td>\n",
       "      <td>/unke-dekhe-se</td>\n",
       "      <td>Urdu</td>\n",
       "      <td>221</td>\n",
       "    </tr>\n",
       "    <tr>\n",
       "      <th>3</th>\n",
       "      <td>Yeh Na Thi Hamari Qismat - Chitra Singh</td>\n",
       "      <td>Chitra Singh</td>\n",
       "      <td>/artist/chitra-singh</td>\n",
       "      <td>04:26</td>\n",
       "      <td>/yeh-na-thi-hamari-qismat-2</td>\n",
       "      <td>Urdu</td>\n",
       "      <td>266</td>\n",
       "    </tr>\n",
       "    <tr>\n",
       "      <th>4</th>\n",
       "      <td>Hazaron Khwahishen Aisi</td>\n",
       "      <td>Jagjit Singh</td>\n",
       "      <td>/artist/jagjeet-singh-1</td>\n",
       "      <td>05:39</td>\n",
       "      <td>/hazaron-khwahishen-aisi-1</td>\n",
       "      <td>Urdu</td>\n",
       "      <td>339</td>\n",
       "    </tr>\n",
       "  </tbody>\n",
       "</table>\n",
       "</div>"
      ],
      "text/plain": [
       "                                      name                     singer  \\\n",
       "0                    Dil - E - Nadan Tujhe  Chitra Singh|Jagjit Singh   \n",
       "1        Agar Hum Kahen Aur Woh Muskara De  Chitra Singh|Jagjit Singh   \n",
       "2                            Unke Dekhe Se               Jagjit Singh   \n",
       "3  Yeh Na Thi Hamari Qismat - Chitra Singh               Chitra Singh   \n",
       "4                  Hazaron Khwahishen Aisi               Jagjit Singh   \n",
       "\n",
       "                                      singer_id duration  \\\n",
       "0  /artist/chitra-singh|/artist/jagjeet-singh-1    05:00   \n",
       "1  /artist/chitra-singh|/artist/jagjeet-singh-1    06:26   \n",
       "2                       /artist/jagjeet-singh-1    03:41   \n",
       "3                          /artist/chitra-singh    04:26   \n",
       "4                       /artist/jagjeet-singh-1    05:39   \n",
       "\n",
       "                                  link language  duration_in_sec  \n",
       "0                 /dil-e-nadan-tujhe-3     Urdu              300  \n",
       "1  /agar-hum-kahen-aur-woh-muskura-den     Urdu              386  \n",
       "2                       /unke-dekhe-se     Urdu              221  \n",
       "3          /yeh-na-thi-hamari-qismat-2     Urdu              266  \n",
       "4           /hazaron-khwahishen-aisi-1     Urdu              339  "
      ]
     },
     "execution_count": 66,
     "metadata": {},
     "output_type": "execute_result"
    }
   ],
   "source": [
    "df.head(5)"
   ]
  },
  {
   "cell_type": "code",
   "execution_count": 67,
   "id": "ec43df1d",
   "metadata": {},
   "outputs": [
    {
     "data": {
      "text/plain": [
       "['/artist/chitra-singh',\n",
       " 'artist/jagjeet-singh-1',\n",
       " '/artist/chitra-singhartist/jagjeet-singh-1']"
      ]
     },
     "execution_count": 67,
     "metadata": {},
     "output_type": "execute_result"
    }
   ],
   "source": [
    "['/artist/chitra-singh','artist/jagjeet-singh-1'] + ['/artist/chitra-singh' 'artist/jagjeet-singh-1']"
   ]
  },
  {
   "cell_type": "code",
   "execution_count": 68,
   "id": "09949060",
   "metadata": {},
   "outputs": [
    {
     "name": "stdout",
     "output_type": "stream",
     "text": [
      "4528\n"
     ]
    }
   ],
   "source": [
    "lst = []\n",
    "\n",
    "for i in df['singer_id']:\n",
    "    lst = lst + i.split('|')\n",
    "\n",
    "print(len(set(lst)))"
   ]
  },
  {
   "cell_type": "code",
   "execution_count": 69,
   "id": "a305077e",
   "metadata": {},
   "outputs": [
    {
     "data": {
      "text/plain": [
       "4528"
      ]
     },
     "execution_count": 69,
     "metadata": {},
     "output_type": "execute_result"
    }
   ],
   "source": [
    "df['singer_id'].str.split('|').explode().nunique()"
   ]
  },
  {
   "cell_type": "code",
   "execution_count": 70,
   "id": "26389d1f",
   "metadata": {},
   "outputs": [
    {
     "data": {
      "text/plain": [
       "3940"
      ]
     },
     "execution_count": 70,
     "metadata": {},
     "output_type": "execute_result"
    }
   ],
   "source": [
    "df['singer'].str.split('|').explode().nunique()"
   ]
  },
  {
   "cell_type": "markdown",
   "id": "97244879",
   "metadata": {},
   "source": [
    "> ## 4.4) Accumulative Duration of a Song on Gaana"
   ]
  },
  {
   "cell_type": "code",
   "execution_count": 79,
   "id": "ca536656",
   "metadata": {},
   "outputs": [
    {
     "data": {
      "text/plain": [
       "np.int64(10275715)"
      ]
     },
     "execution_count": 79,
     "metadata": {},
     "output_type": "execute_result"
    }
   ],
   "source": [
    "df['duration_in_sec'].sum()"
   ]
  },
  {
   "cell_type": "code",
   "execution_count": 85,
   "id": "d164efdb",
   "metadata": {},
   "outputs": [
    {
     "name": "stdout",
     "output_type": "stream",
     "text": [
      "Total Duration :  118 days 22 hours 21 minutes and 55 seconds\n"
     ]
    }
   ],
   "source": [
    "total_second = df['duration_in_sec'].sum()\n",
    "days = total_second // (24 * 3600)\n",
    "remaining_seconds_after_days = total_second % (24 * 3600)\n",
    "hours = remaining_seconds_after_days // 3600\n",
    "remaining_seconds_after_hours = remaining_seconds_after_days % 3600\n",
    "minutes = remaining_seconds_after_hours // 60\n",
    "seconds = remaining_seconds_after_hours % 60\n",
    "print(f\"Total Duration :  {days} days {hours} hours {minutes} minutes and {seconds} seconds\") "
   ]
  },
  {
   "cell_type": "markdown",
   "id": "ca5c62be",
   "metadata": {},
   "source": [
    "> ## 4.5) Top Songs "
   ]
  },
  {
   "cell_type": "code",
   "execution_count": 86,
   "id": "6689a324",
   "metadata": {},
   "outputs": [
    {
     "data": {
      "text/html": [
       "<div>\n",
       "<style scoped>\n",
       "    .dataframe tbody tr th:only-of-type {\n",
       "        vertical-align: middle;\n",
       "    }\n",
       "\n",
       "    .dataframe tbody tr th {\n",
       "        vertical-align: top;\n",
       "    }\n",
       "\n",
       "    .dataframe thead th {\n",
       "        text-align: right;\n",
       "    }\n",
       "</style>\n",
       "<table border=\"1\" class=\"dataframe\">\n",
       "  <thead>\n",
       "    <tr style=\"text-align: right;\">\n",
       "      <th></th>\n",
       "      <th>name</th>\n",
       "      <th>singer</th>\n",
       "      <th>singer_id</th>\n",
       "      <th>duration</th>\n",
       "      <th>link</th>\n",
       "      <th>language</th>\n",
       "      <th>duration_in_sec</th>\n",
       "    </tr>\n",
       "  </thead>\n",
       "  <tbody>\n",
       "    <tr>\n",
       "      <th>0</th>\n",
       "      <td>Dil - E - Nadan Tujhe</td>\n",
       "      <td>Chitra Singh|Jagjit Singh</td>\n",
       "      <td>/artist/chitra-singh|/artist/jagjeet-singh-1</td>\n",
       "      <td>05:00</td>\n",
       "      <td>/dil-e-nadan-tujhe-3</td>\n",
       "      <td>Urdu</td>\n",
       "      <td>300</td>\n",
       "    </tr>\n",
       "    <tr>\n",
       "      <th>1</th>\n",
       "      <td>Agar Hum Kahen Aur Woh Muskara De</td>\n",
       "      <td>Chitra Singh|Jagjit Singh</td>\n",
       "      <td>/artist/chitra-singh|/artist/jagjeet-singh-1</td>\n",
       "      <td>06:26</td>\n",
       "      <td>/agar-hum-kahen-aur-woh-muskura-den</td>\n",
       "      <td>Urdu</td>\n",
       "      <td>386</td>\n",
       "    </tr>\n",
       "  </tbody>\n",
       "</table>\n",
       "</div>"
      ],
      "text/plain": [
       "                                name                     singer  \\\n",
       "0              Dil - E - Nadan Tujhe  Chitra Singh|Jagjit Singh   \n",
       "1  Agar Hum Kahen Aur Woh Muskara De  Chitra Singh|Jagjit Singh   \n",
       "\n",
       "                                      singer_id duration  \\\n",
       "0  /artist/chitra-singh|/artist/jagjeet-singh-1    05:00   \n",
       "1  /artist/chitra-singh|/artist/jagjeet-singh-1    06:26   \n",
       "\n",
       "                                  link language  duration_in_sec  \n",
       "0                 /dil-e-nadan-tujhe-3     Urdu              300  \n",
       "1  /agar-hum-kahen-aur-woh-muskura-den     Urdu              386  "
      ]
     },
     "execution_count": 86,
     "metadata": {},
     "output_type": "execute_result"
    }
   ],
   "source": [
    "df.head(2)"
   ]
  },
  {
   "cell_type": "code",
   "execution_count": 88,
   "id": "1393cd77",
   "metadata": {},
   "outputs": [
    {
     "data": {
      "text/plain": [
       "<Axes: xlabel='name'>"
      ]
     },
     "execution_count": 88,
     "metadata": {},
     "output_type": "execute_result"
    },
    {
     "data": {
      "image/png": "[encoded data removed]",
      "text/plain": [
       "<Figure size 640x480 with 1 Axes>"
      ]
     },
     "metadata": {},
     "output_type": "display_data"
    }
   ],
   "source": [
    "df.groupby('name')['name'].count().sort_values(ascending = False).head(10).plot(kind = 'bar')"
   ]
  },
  {
   "cell_type": "markdown",
   "id": "5d555512",
   "metadata": {},
   "source": [
    "> ## 4.6) Top 5 Languages"
   ]
  },
  {
   "cell_type": "code",
   "execution_count": 89,
   "id": "d302ed0b",
   "metadata": {},
   "outputs": [
    {
     "data": {
      "text/plain": [
       "<Axes: xlabel='language'>"
      ]
     },
     "execution_count": 89,
     "metadata": {},
     "output_type": "execute_result"
    },
    {
     "data": {
      "image/png": "[encoded data removed]",
      "text/plain": [
       "<Figure size 640x480 with 1 Axes>"
      ]
     },
     "metadata": {},
     "output_type": "display_data"
    }
   ],
   "source": [
    "df.groupby('language')['language'].count().sort_values(ascending=False).head(5).plot(kind = 'bar')"
   ]
  },
  {
   "cell_type": "code",
   "execution_count": null,
   "id": "eba67dc1",
   "metadata": {},
   "outputs": [
    {
     "data": {
      "image/png": "[encoded data removed]",
      "text/plain": [
       "<Figure size 1000x600 with 1 Axes>"
      ]
     },
     "metadata": {},
     "output_type": "display_data"
    }
   ],
   "source": [
    "import seaborn as sns \n",
    "import matplotlib.pyplot as plt\n",
    "\n",
    "language_counts = df['language'].value_counts().sort_values(ascending=True)\n",
    "\n",
    "# Select top 10 languages\n",
    "top_10_languages = language_counts.head(10)\n",
    "\n",
    "# Create a colormap from light red to dark red\n",
    "cmap = plt.colormaps['Blues']\n",
    "\n",
    "# Normalize the counts to the range [0,1] for colormapping \n",
    "norm = plt.Normalize(top_10_languages.min(), top_10_languages.max())\n",
    "\n",
    "# Create the bar plot with custom colors\n",
    "plt.figure(figsize=(10, 6))\n",
    "sns.barplot(\n",
    "    x=top_10_languages.index,\n",
    "    y=top_10_languages.values,\n",
    "    hue=top_10_languages.index,  \n",
    "    palette=[cmap(norm(value)) for value in top_10_languages.values],\n",
    "    legend=False \n",
    ")\n",
    "plt.title('Top 10 Languages by Song Count')\n",
    "plt.xlabel('Language')\n",
    "plt.ylabel('Number of Songs')\n",
    "plt.xticks(rotation=45, ha='right')\n",
    "plt.tight_layout()\n",
    "plt.show()\n"
   ]
  },
  {
   "cell_type": "code",
   "execution_count": null,
   "id": "e4fe61fd",
   "metadata": {},
   "outputs": [
    {
     "data": {
      "application/vnd.plotly.v1+json": {
       "config": {
        "plotlyServerURL": "https://plot.ly"
       },
       "data": [
        {
         "hovertemplate": "Language=%{x}<br>Number of Songs=%{y}<br>color=%{marker.color}<extra></extra>",
         "legendgroup": "",
         "marker": {
          "color": {
           "bdata": "GxKQEIMQ7g/8DSQMIwvXB5MDagM=",
           "dtype": "i2"
          },
          "coloraxis": "coloraxis",
          "pattern": {
           "shape": ""
          }
         },
         "name": "",
         "orientation": "v",
         "showlegend": false,
         "textposition": "auto",
         "type": "bar",
         "x": [
          "Telugu",
          "Marathi",
          "Tamil",
          "Hindi",
          "Punjabi",
          "Urdu",
          "Kannada",
          "Gujarati",
          "Odia",
          "Bengali"
         ],
         "xaxis": "x",
         "y": {
          "bdata": "GxKQEIMQ7g/8DSQMIwvXB5MDagM=",
          "dtype": "i2"
         },
         "yaxis": "y"
        }
       ],
       "layout": {
        "barmode": "relative",
        "coloraxis": {
         "colorbar": {
          "title": {
           "text": "color"
          }
         },
         "colorscale": [
          [
           0,
           "rgb(255,245,240)"
          ],
          [
           0.125,
           "rgb(254,224,210)"
          ],
          [
           0.25,
           "rgb(252,187,161)"
          ],
          [
           0.375,
           "rgb(252,146,114)"
          ],
          [
           0.5,
           "rgb(251,106,74)"
          ],
          [
           0.625,
           "rgb(239,59,44)"
          ],
          [
           0.75,
           "rgb(203,24,29)"
          ],
          [
           0.875,
           "rgb(165,15,21)"
          ],
          [
           1,
           "rgb(103,0,13)"
          ]
         ]
        },
        "legend": {
         "tracegroupgap": 0
        },
        "template": {
         "data": {
          "bar": [
           {
            "error_x": {
             "color": "#2a3f5f"
            },
            "error_y": {
             "color": "#2a3f5f"
            },
            "marker": {
             "line": {
              "color": "#E5ECF6",
              "width": 0.5
             },
             "pattern": {
              "fillmode": "overlay",
              "size": 10,
              "solidity": 0.2
             }
            },
            "type": "bar"
           }
          ],
          "barpolar": [
           {
            "marker": {
             "line": {
              "color": "#E5ECF6",
              "width": 0.5
             },
             "pattern": {
              "fillmode": "overlay",
              "size": 10,
              "solidity": 0.2
             }
            },
            "type": "barpolar"
           }
          ],
          "carpet": [
           {
            "aaxis": {
             "endlinecolor": "#2a3f5f",
             "gridcolor": "white",
             "linecolor": "white",
             "minorgridcolor": "white",
             "startlinecolor": "#2a3f5f"
            },
            "baxis": {
             "endlinecolor": "#2a3f5f",
             "gridcolor": "white",
             "linecolor": "white",
             "minorgridcolor": "white",
             "startlinecolor": "#2a3f5f"
            },
            "type": "carpet"
           }
          ],
          "choropleth": [
           {
            "colorbar": {
             "outlinewidth": 0,
             "ticks": ""
            },
            "type": "choropleth"
           }
          ],
          "contour": [
           {
            "colorbar": {
             "outlinewidth": 0,
             "ticks": ""
            },
            "colorscale": [
             [
              0,
              "#0d0887"
             ],
             [
              0.1111111111111111,
              "#46039f"
             ],
             [
              0.2222222222222222,
              "#7201a8"
             ],
             [
              0.3333333333333333,
              "#9c179e"
             ],
             [
              0.4444444444444444,
              "#bd3786"
             ],
             [
              0.5555555555555556,
              "#d8576b"
             ],
             [
              0.6666666666666666,
              "#ed7953"
             ],
             [
              0.7777777777777778,
              "#fb9f3a"
             ],
             [
              0.8888888888888888,
              "#fdca26"
             ],
             [
              1,
              "#f0f921"
             ]
            ],
            "type": "contour"
           }
          ],
          "contourcarpet": [
           {
            "colorbar": {
             "outlinewidth": 0,
             "ticks": ""
            },
            "type": "contourcarpet"
           }
          ],
          "heatmap": [
           {
            "colorbar": {
             "outlinewidth": 0,
             "ticks": ""
            },
            "colorscale": [
             [
              0,
              "#0d0887"
             ],
             [
              0.1111111111111111,
              "#46039f"
             ],
             [
              0.2222222222222222,
              "#7201a8"
             ],
             [
              0.3333333333333333,
              "#9c179e"
             ],
             [
              0.4444444444444444,
              "#bd3786"
             ],
             [
              0.5555555555555556,
              "#d8576b"
             ],
             [
              0.6666666666666666,
              "#ed7953"
             ],
             [
              0.7777777777777778,
              "#fb9f3a"
             ],
             [
              0.8888888888888888,
              "#fdca26"
             ],
             [
              1,
              "#f0f921"
             ]
            ],
            "type": "heatmap"
           }
          ],
          "histogram": [
           {
            "marker": {
             "pattern": {
              "fillmode": "overlay",
              "size": 10,
              "solidity": 0.2
             }
            },
            "type": "histogram"
           }
          ],
          "histogram2d": [
           {
            "colorbar": {
             "outlinewidth": 0,
             "ticks": ""
            },
            "colorscale": [
             [
              0,
              "#0d0887"
             ],
             [
              0.1111111111111111,
              "#46039f"
             ],
             [
              0.2222222222222222,
              "#7201a8"
             ],
             [
              0.3333333333333333,
              "#9c179e"
             ],
             [
              0.4444444444444444,
              "#bd3786"
             ],
             [
              0.5555555555555556,
              "#d8576b"
             ],
             [
              0.6666666666666666,
              "#ed7953"
             ],
             [
              0.7777777777777778,
              "#fb9f3a"
             ],
             [
              0.8888888888888888,
              "#fdca26"
             ],
             [
              1,
              "#f0f921"
             ]
            ],
            "type": "histogram2d"
           }
          ],
          "histogram2dcontour": [
           {
            "colorbar": {
             "outlinewidth": 0,
             "ticks": ""
            },
            "colorscale": [
             [
              0,
              "#0d0887"
             ],
             [
              0.1111111111111111,
              "#46039f"
             ],
             [
              0.2222222222222222,
              "#7201a8"
             ],
             [
              0.3333333333333333,
              "#9c179e"
             ],
             [
              0.4444444444444444,
              "#bd3786"
             ],
             [
              0.5555555555555556,
              "#d8576b"
             ],
             [
              0.6666666666666666,
              "#ed7953"
             ],
             [
              0.7777777777777778,
              "#fb9f3a"
             ],
             [
              0.8888888888888888,
              "#fdca26"
             ],
             [
              1,
              "#f0f921"
             ]
            ],
            "type": "histogram2dcontour"
           }
          ],
          "mesh3d": [
           {
            "colorbar": {
             "outlinewidth": 0,
             "ticks": ""
            },
            "type": "mesh3d"
           }
          ],
          "parcoords": [
           {
            "line": {
             "colorbar": {
              "outlinewidth": 0,
              "ticks": ""
             }
            },
            "type": "parcoords"
           }
          ],
          "pie": [
           {
            "automargin": true,
            "type": "pie"
           }
          ],
          "scatter": [
           {
            "fillpattern": {
             "fillmode": "overlay",
             "size": 10,
             "solidity": 0.2
            },
            "type": "scatter"
           }
          ],
          "scatter3d": [
           {
            "line": {
             "colorbar": {
              "outlinewidth": 0,
              "ticks": ""
             }
            },
            "marker": {
             "colorbar": {
              "outlinewidth": 0,
              "ticks": ""
             }
            },
            "type": "scatter3d"
           }
          ],
          "scattercarpet": [
           {
            "marker": {
             "colorbar": {
              "outlinewidth": 0,
              "ticks": ""
             }
            },
            "type": "scattercarpet"
           }
          ],
          "scattergeo": [
           {
            "marker": {
             "colorbar": {
              "outlinewidth": 0,
              "ticks": ""
             }
            },
            "type": "scattergeo"
           }
          ],
          "scattergl": [
           {
            "marker": {
             "colorbar": {
              "outlinewidth": 0,
              "ticks": ""
             }
            },
            "type": "scattergl"
           }
          ],
          "scattermap": [
           {
            "marker": {
             "colorbar": {
              "outlinewidth": 0,
              "ticks": ""
             }
            },
            "type": "scattermap"
           }
          ],
          "scattermapbox": [
           {
            "marker": {
             "colorbar": {
              "outlinewidth": 0,
              "ticks": ""
             }
            },
            "type": "scattermapbox"
           }
          ],
          "scatterpolar": [
           {
            "marker": {
             "colorbar": {
              "outlinewidth": 0,
              "ticks": ""
             }
            },
            "type": "scatterpolar"
           }
          ],
          "scatterpolargl": [
           {
            "marker": {
             "colorbar": {
              "outlinewidth": 0,
              "ticks": ""
             }
            },
            "type": "scatterpolargl"
           }
          ],
          "scatterternary": [
           {
            "marker": {
             "colorbar": {
              "outlinewidth": 0,
              "ticks": ""
             }
            },
            "type": "scatterternary"
           }
          ],
          "surface": [
           {
            "colorbar": {
             "outlinewidth": 0,
             "ticks": ""
            },
            "colorscale": [
             [
              0,
              "#0d0887"
             ],
             [
              0.1111111111111111,
              "#46039f"
             ],
             [
              0.2222222222222222,
              "#7201a8"
             ],
             [
              0.3333333333333333,
              "#9c179e"
             ],
             [
              0.4444444444444444,
              "#bd3786"
             ],
             [
              0.5555555555555556,
              "#d8576b"
             ],
             [
              0.6666666666666666,
              "#ed7953"
             ],
             [
              0.7777777777777778,
              "#fb9f3a"
             ],
             [
              0.8888888888888888,
              "#fdca26"
             ],
             [
              1,
              "#f0f921"
             ]
            ],
            "type": "surface"
           }
          ],
          "table": [
           {
            "cells": {
             "fill": {
              "color": "#EBF0F8"
             },
             "line": {
              "color": "white"
             }
            },
            "header": {
             "fill": {
              "color": "#C8D4E3"
             },
             "line": {
              "color": "white"
             }
            },
            "type": "table"
           }
          ]
         },
         "layout": {
          "annotationdefaults": {
           "arrowcolor": "#2a3f5f",
           "arrowhead": 0,
           "arrowwidth": 1
          },
          "autotypenumbers": "strict",
          "coloraxis": {
           "colorbar": {
            "outlinewidth": 0,
            "ticks": ""
           }
          },
          "colorscale": {
           "diverging": [
            [
             0,
             "#8e0152"
            ],
            [
             0.1,
             "#c51b7d"
            ],
            [
             0.2,
             "#de77ae"
            ],
            [
             0.3,
             "#f1b6da"
            ],
            [
             0.4,
             "#fde0ef"
            ],
            [
             0.5,
             "#f7f7f7"
            ],
            [
             0.6,
             "#e6f5d0"
            ],
            [
             0.7,
             "#b8e186"
            ],
            [
             0.8,
             "#7fbc41"
            ],
            [
             0.9,
             "#4d9221"
            ],
            [
             1,
             "#276419"
            ]
           ],
           "sequential": [
            [
             0,
             "#0d0887"
            ],
            [
             0.1111111111111111,
             "#46039f"
            ],
            [
             0.2222222222222222,
             "#7201a8"
            ],
            [
             0.3333333333333333,
             "#9c179e"
            ],
            [
             0.4444444444444444,
             "#bd3786"
            ],
            [
             0.5555555555555556,
             "#d8576b"
            ],
            [
             0.6666666666666666,
             "#ed7953"
            ],
            [
             0.7777777777777778,
             "#fb9f3a"
            ],
            [
             0.8888888888888888,
             "#fdca26"
            ],
            [
             1,
             "#f0f921"
            ]
           ],
           "sequentialminus": [
            [
             0,
             "#0d0887"
            ],
            [
             0.1111111111111111,
             "#46039f"
            ],
            [
             0.2222222222222222,
             "#7201a8"
            ],
            [
             0.3333333333333333,
             "#9c179e"
            ],
            [
             0.4444444444444444,
             "#bd3786"
            ],
            [
             0.5555555555555556,
             "#d8576b"
            ],
            [
             0.6666666666666666,
             "#ed7953"
            ],
            [
             0.7777777777777778,
             "#fb9f3a"
            ],
            [
             0.8888888888888888,
             "#fdca26"
            ],
            [
             1,
             "#f0f921"
            ]
           ]
          },
          "colorway": [
           "#636efa",
           "#EF553B",
           "#00cc96",
           "#ab63fa",
           "#FFA15A",
           "#19d3f3",
           "#FF6692",
           "#B6E880",
           "#FF97FF",
           "#FECB52"
          ],
          "font": {
           "color": "#2a3f5f"
          },
          "geo": {
           "bgcolor": "white",
           "lakecolor": "white",
           "landcolor": "#E5ECF6",
           "showlakes": true,
           "showland": true,
           "subunitcolor": "white"
          },
          "hoverlabel": {
           "align": "left"
          },
          "hovermode": "closest",
          "mapbox": {
           "style": "light"
          },
          "paper_bgcolor": "white",
          "plot_bgcolor": "#E5ECF6",
          "polar": {
           "angularaxis": {
            "gridcolor": "white",
            "linecolor": "white",
            "ticks": ""
           },
           "bgcolor": "#E5ECF6",
           "radialaxis": {
            "gridcolor": "white",
            "linecolor": "white",
            "ticks": ""
           }
          },
          "scene": {
           "xaxis": {
            "backgroundcolor": "#E5ECF6",
            "gridcolor": "white",
            "gridwidth": 2,
            "linecolor": "white",
            "showbackground": true,
            "ticks": "",
            "zerolinecolor": "white"
           },
           "yaxis": {
            "backgroundcolor": "#E5ECF6",
            "gridcolor": "white",
            "gridwidth": 2,
            "linecolor": "white",
            "showbackground": true,
            "ticks": "",
            "zerolinecolor": "white"
           },
           "zaxis": {
            "backgroundcolor": "#E5ECF6",
            "gridcolor": "white",
            "gridwidth": 2,
            "linecolor": "white",
            "showbackground": true,
            "ticks": "",
            "zerolinecolor": "white"
           }
          },
          "shapedefaults": {
           "line": {
            "color": "#2a3f5f"
           }
          },
          "ternary": {
           "aaxis": {
            "gridcolor": "white",
            "linecolor": "white",
            "ticks": ""
           },
           "baxis": {
            "gridcolor": "white",
            "linecolor": "white",
            "ticks": ""
           },
           "bgcolor": "#E5ECF6",
           "caxis": {
            "gridcolor": "white",
            "linecolor": "white",
            "ticks": ""
           }
          },
          "title": {
           "x": 0.05
          },
          "xaxis": {
           "automargin": true,
           "gridcolor": "white",
           "linecolor": "white",
           "ticks": "",
           "title": {
            "standoff": 15
           },
           "zerolinecolor": "white",
           "zerolinewidth": 2
          },
          "yaxis": {
           "automargin": true,
           "gridcolor": "white",
           "linecolor": "white",
           "ticks": "",
           "title": {
            "standoff": 15
           },
           "zerolinecolor": "white",
           "zerolinewidth": 2
          }
         }
        },
        "title": {
         "text": "Top 10 Languages by Song Count (Plotly)"
        },
        "xaxis": {
         "anchor": "y",
         "domain": [
          0,
          1
         ],
         "tickangle": -45,
         "title": {
          "text": "Language"
         }
        },
        "yaxis": {
         "anchor": "x",
         "domain": [
          0,
          1
         ],
         "title": {
          "text": "Number of Songs"
         }
        }
       }
      }
     },
     "metadata": {},
     "output_type": "display_data"
    }
   ],
   "source": [
    "import plotly.express as px\n",
    "\n",
    "language_counts = df['language'].value_counts().sort_values(ascending=False)\n",
    "\n",
    "# Select top 10 languages\n",
    "top_10_languages = language_counts.head(10)\n",
    "\n",
    "# Create a Plotly bar chart\n",
    "fig = px.bar(x=top_10_languages.index, y=top_10_languages.values,\n",
    "            labels={'x': 'Language', 'y': 'Number of Songs'},\n",
    "            title='Top 10 Languages by Song Count (Plotly)',\n",
    "            color=top_10_languages.values,\n",
    "            color_continuous_scale='Reds') # Use 'Reds' colormap\n",
    "\n",
    "fig.update_layout(xaxis_tickangle=-45)\n",
    "fig.show()"
   ]
  }
 ],
 "metadata": {
  "kernelspec": {
   "display_name": "env",
   "language": "python",
   "name": "python3"
  },
  "language_info": {
   "codemirror_mode": {
    "name": "ipython",
    "version": 3
   },
   "file_extension": ".py",
   "mimetype": "text/x-python",
   "name": "python",
   "nbconvert_exporter": "python",
   "pygments_lexer": "ipython3",
   "version": "3.11.9"
  }
 },
 "nbformat": 4,
 "nbformat_minor": 5
}
